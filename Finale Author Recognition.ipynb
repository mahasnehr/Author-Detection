{
 "cells": [
  {
   "cell_type": "code",
   "execution_count": 676,
   "id": "grave-richardson",
   "metadata": {},
   "outputs": [],
   "source": [
    "import keras\n",
    "from keras_self_attention import SeqSelfAttention"
   ]
  },
  {
   "cell_type": "code",
   "execution_count": 677,
   "id": "wrapped-phoenix",
   "metadata": {},
   "outputs": [],
   "source": [
    "import numpy as np\n",
    "import pandas as pd \n",
    "import re\n",
    "from bs4 import BeautifulSoup\n",
    "from keras.preprocessing.text import Tokenizer \n",
    "from keras.preprocessing.sequence import pad_sequences\n",
    "from nltk.corpus import stopwords\n",
    "from tensorflow.keras.layers import Input, LSTM, Embedding, Dense, Concatenate, TimeDistributed\n",
    "from tensorflow.keras.models import Model\n",
    "from tensorflow.keras.callbacks import EarlyStopping\n",
    "import warnings\n",
    "pd.set_option(\"display.max_colwidth\", 200)"
   ]
  },
  {
   "cell_type": "code",
   "execution_count": 678,
   "id": "successful-rainbow",
   "metadata": {},
   "outputs": [],
   "source": [
    "data=pd.read_csv(\"C:/Users/Ruba/Downloads/Authors/AuthorsMerg01.csv\",nrows=100000)"
   ]
  },
  {
   "cell_type": "code",
   "execution_count": 679,
   "id": "higher-glass",
   "metadata": {},
   "outputs": [],
   "source": [
    "data.drop_duplicates(subset=['Text'],inplace=True)#dropping duplicates\n",
    "data.dropna(axis=0,inplace=True)#dropping na"
   ]
  },
  {
   "cell_type": "code",
   "execution_count": 680,
   "id": "dense-status",
   "metadata": {},
   "outputs": [
    {
     "name": "stdout",
     "output_type": "stream",
     "text": [
      "<class 'pandas.core.frame.DataFrame'>\n",
      "Int64Index: 2283 entries, 0 to 2311\n",
      "Data columns (total 3 columns):\n",
      " #   Column  Non-Null Count  Dtype \n",
      "---  ------  --------------  ----- \n",
      " 0   Id      2283 non-null   int64 \n",
      " 1   Text    2283 non-null   object\n",
      " 2   Author  2283 non-null   object\n",
      "dtypes: int64(1), object(2)\n",
      "memory usage: 71.3+ KB\n"
     ]
    }
   ],
   "source": [
    "data.info()"
   ]
  },
  {
   "cell_type": "code",
   "execution_count": 681,
   "id": "continuous-factor",
   "metadata": {},
   "outputs": [],
   "source": [
    "contraction_mapping = {\"ain't\": \"is not\", \"aren't\": \"are not\",\"can't\": \"cannot\", \"'cause\": \"because\", \"could've\": \"could have\", \"couldn't\": \"could not\",\n",
    "                           \"didn't\": \"did not\",  \"doesn't\": \"does not\", \"don't\": \"do not\", \"hadn't\": \"had not\", \"hasn't\": \"has not\", \"haven't\": \"have not\",\n",
    "                           \"he'd\": \"he would\",\"he'll\": \"he will\", \"he's\": \"he is\", \"how'd\": \"how did\", \"how'd'y\": \"how do you\", \"how'll\": \"how will\", \"how's\": \"how is\",\n",
    "                           \"I'd\": \"I would\", \"I'd've\": \"I would have\", \"I'll\": \"I will\", \"I'll've\": \"I will have\",\"I'm\": \"I am\", \"I've\": \"I have\", \"i'd\": \"i would\",\n",
    "                           \"i'd've\": \"i would have\", \"i'll\": \"i will\",  \"i'll've\": \"i will have\",\"i'm\": \"i am\", \"i've\": \"i have\", \"isn't\": \"is not\", \"it'd\": \"it would\",\n",
    "                           \"it'd've\": \"it would have\", \"it'll\": \"it will\", \"it'll've\": \"it will have\",\"it's\": \"it is\", \"let's\": \"let us\", \"ma'am\": \"madam\",\n",
    "                           \"mayn't\": \"may not\", \"might've\": \"might have\",\"mightn't\": \"might not\",\"mightn't've\": \"might not have\", \"must've\": \"must have\",\n",
    "                           \"mustn't\": \"must not\", \"mustn't've\": \"must not have\", \"needn't\": \"need not\", \"needn't've\": \"need not have\",\"o'clock\": \"of the clock\",\n",
    "                           \"oughtn't\": \"ought not\", \"oughtn't've\": \"ought not have\", \"shan't\": \"shall not\", \"sha'n't\": \"shall not\", \"shan't've\": \"shall not have\",\n",
    "                           \"she'd\": \"she would\", \"she'd've\": \"she would have\", \"she'll\": \"she will\", \"she'll've\": \"she will have\", \"she's\": \"she is\",\n",
    "                           \"should've\": \"should have\", \"shouldn't\": \"should not\", \"shouldn't've\": \"should not have\", \"so've\": \"so have\",\"so's\": \"so as\",\n",
    "                           \"this's\": \"this is\",\"that'd\": \"that would\", \"that'd've\": \"that would have\", \"that's\": \"that is\", \"there'd\": \"there would\",\n",
    "                           \"there'd've\": \"there would have\", \"there's\": \"there is\", \"here's\": \"here is\",\"they'd\": \"they would\", \"they'd've\": \"they would have\",\n",
    "                           \"they'll\": \"they will\", \"they'll've\": \"they will have\", \"they're\": \"they are\", \"they've\": \"they have\", \"to've\": \"to have\",\n",
    "                           \"wasn't\": \"was not\", \"we'd\": \"we would\", \"we'd've\": \"we would have\", \"we'll\": \"we will\", \"we'll've\": \"we will have\", \"we're\": \"we are\",\n",
    "                           \"we've\": \"we have\", \"weren't\": \"were not\", \"what'll\": \"what will\", \"what'll've\": \"what will have\", \"what're\": \"what are\",\n",
    "                           \"what's\": \"what is\", \"what've\": \"what have\", \"when's\": \"when is\", \"when've\": \"when have\", \"where'd\": \"where did\", \"where's\": \"where is\",\n",
    "                           \"where've\": \"where have\", \"who'll\": \"who will\", \"who'll've\": \"who will have\", \"who's\": \"who is\", \"who've\": \"who have\",\n",
    "                           \"why's\": \"why is\", \"why've\": \"why have\", \"will've\": \"will have\", \"won't\": \"will not\", \"won't've\": \"will not have\",\n",
    "                           \"would've\": \"would have\", \"wouldn't\": \"would not\", \"wouldn't've\": \"would not have\", \"y'all\": \"you all\",\n",
    "                           \"y'all'd\": \"you all would\",\"y'all'd've\": \"you all would have\",\"y'all're\": \"you all are\",\"y'all've\": \"you all have\",\n",
    "                           \"you'd\": \"you would\", \"you'd've\": \"you would have\", \"you'll\": \"you will\", \"you'll've\": \"you will have\",\n",
    "                           \"you're\": \"you are\", \"you've\": \"you have\"}"
   ]
  },
  {
   "cell_type": "code",
   "execution_count": 682,
   "id": "conventional-there",
   "metadata": {},
   "outputs": [
    {
     "name": "stderr",
     "output_type": "stream",
     "text": [
      "[nltk_data] Downloading package stopwords to\n",
      "[nltk_data]     C:\\Users\\Ruba\\AppData\\Roaming\\nltk_data...\n",
      "[nltk_data]   Package stopwords is already up-to-date!\n"
     ]
    },
    {
     "data": {
      "text/plain": [
       "True"
      ]
     },
     "execution_count": 682,
     "metadata": {},
     "output_type": "execute_result"
    }
   ],
   "source": [
    "import nltk\n",
    "nltk.download('stopwords')"
   ]
  },
  {
   "cell_type": "code",
   "execution_count": 683,
   "id": "unlikely-short",
   "metadata": {},
   "outputs": [],
   "source": [
    "stop_words = set(stopwords.words('english'))"
   ]
  },
  {
   "cell_type": "code",
   "execution_count": 684,
   "id": "according-cancer",
   "metadata": {},
   "outputs": [],
   "source": [
    "\n",
    "def text_cleaner(text,num):\n",
    "    newString = text.lower()\n",
    "    newString = BeautifulSoup(newString, \"lxml\").text\n",
    "    newString = re.sub(r'\\([^)]*\\)', '', newString)\n",
    "    newString = re.sub('\"','', newString)\n",
    "    newString = ' '.join([contraction_mapping[t] if t in contraction_mapping else t for t in newString.split(\" \")])    \n",
    "    newString = re.sub(r\"'s\\b\",\"\",newString)\n",
    "    newString = re.sub(\"[^a-zA-Z]\", \" \", newString) \n",
    "    newString = re.sub('[m]{2,}', 'mm', newString)\n",
    "    if(num==0):\n",
    "        tokens = [w for w in newString.split() if not w in stop_words]\n",
    "    else:\n",
    "        tokens=newString.split()\n",
    "    long_words=[]\n",
    "    for i in tokens:\n",
    "        if len(i)>1:                                                 #removing short word\n",
    "            long_words.append(i)   \n",
    "    return (\" \".join(long_words)).strip()"
   ]
  },
  {
   "cell_type": "code",
   "execution_count": 685,
   "id": "prescribed-wilson",
   "metadata": {},
   "outputs": [],
   "source": [
    "#call the function\n",
    "cleaned_text = []\n",
    "for t in data['Text']:\n",
    "    cleaned_text.append(text_cleaner(t,0))"
   ]
  },
  {
   "cell_type": "code",
   "execution_count": 686,
   "id": "basic-island",
   "metadata": {},
   "outputs": [
    {
     "data": {
      "text/plain": [
       "['project gutenberg ebook complete poetical works edgar allan poe',\n",
       " 'whatsoever may copy give away use terms',\n",
       " 'ebook use anyone anywhere united states',\n",
       " 'parts world cost almost restrictions',\n",
       " 'whatsoever may copy give away use terms']"
      ]
     },
     "execution_count": 686,
     "metadata": {},
     "output_type": "execute_result"
    }
   ],
   "source": [
    "cleaned_text[:5]"
   ]
  },
  {
   "cell_type": "code",
   "execution_count": 687,
   "id": "loose-korea",
   "metadata": {},
   "outputs": [],
   "source": [
    "#call the function\n",
    "cleaned_Author = []\n",
    "for t in data['Author']:\n",
    "    cleaned_Author.append(text_cleaner(t,1))"
   ]
  },
  {
   "cell_type": "code",
   "execution_count": 688,
   "id": "golden-advertising",
   "metadata": {},
   "outputs": [
    {
     "data": {
      "text/plain": [
       "['edgar allan poe',\n",
       " 'agatha christie',\n",
       " 'edgar allan poe',\n",
       " 'edgar allan poe',\n",
       " 'edgar allan poe',\n",
       " 'edgar allan poe',\n",
       " 'edgar allan poe',\n",
       " 'edgar allan poe',\n",
       " 'edgar allan poe',\n",
       " 'edgar allan poe']"
      ]
     },
     "execution_count": 688,
     "metadata": {},
     "output_type": "execute_result"
    }
   ],
   "source": [
    "cleaned_Author[:10]"
   ]
  },
  {
   "cell_type": "code",
   "execution_count": 689,
   "id": "direct-blast",
   "metadata": {},
   "outputs": [],
   "source": [
    "#restore values of text / Author after cleaning process \n",
    "data['cleaned_text']=cleaned_text\n",
    "data['cleaned_Author']=cleaned_Author"
   ]
  },
  {
   "cell_type": "code",
   "execution_count": 690,
   "id": "saved-whole",
   "metadata": {},
   "outputs": [],
   "source": [
    "#remove empty spaces and NA ones\n",
    "data.replace('', np.nan, inplace=True)\n",
    "data.dropna(axis=0,inplace=True)"
   ]
  },
  {
   "cell_type": "code",
   "execution_count": 691,
   "id": "accredited-technician",
   "metadata": {},
   "outputs": [
    {
     "name": "stderr",
     "output_type": "stream",
     "text": [
      "C:\\Users\\Ruba\\anaconda3\\lib\\site-packages\\pandas\\plotting\\_matplotlib\\tools.py:400: MatplotlibDeprecationWarning: \n",
      "The is_first_col function was deprecated in Matplotlib 3.4 and will be removed two minor releases later. Use ax.get_subplotspec().is_first_col() instead.\n",
      "  if ax.is_first_col():\n"
     ]
    },
    {
     "data": {
      "image/png": "[encoded data removed]",
      "text/plain": [
       "<Figure size 432x288 with 2 Axes>"
      ]
     },
     "metadata": {
      "needs_background": "light"
     },
     "output_type": "display_data"
    }
   ],
   "source": [
    "\n",
    "# find the length of sentences in each TEXT / Summay to know the MIN.MAX ranges length\n",
    "import matplotlib.pyplot as plt\n",
    "\n",
    "text_word_count = []\n",
    "Author_word_count = []\n",
    "\n",
    "# populate the lists with sentence lengths\n",
    "for i in data['cleaned_text']:\n",
    "      text_word_count.append(len(i.split()))\n",
    "\n",
    "for i in data['cleaned_Author']:\n",
    "      Author_word_count.append(len(i.split()))\n",
    "\n",
    "length_df = pd.DataFrame({'text':text_word_count, 'Author':Author_word_count})\n",
    "\n",
    "length_df.hist(bins = 30)\n",
    "plt.show()"
   ]
  },
  {
   "cell_type": "code",
   "execution_count": 692,
   "id": "incomplete-windsor",
   "metadata": {},
   "outputs": [],
   "source": [
    "# limit the length of MAX \n",
    "max_text_len=30\n",
    "max_Author_len=5"
   ]
  },
  {
   "cell_type": "code",
   "execution_count": 693,
   "id": "coral-seven",
   "metadata": {},
   "outputs": [],
   "source": [
    "# remove the shorter ones than the MAX (max_text_len) limite above\n",
    "cleaned_text =np.array(data['cleaned_text'])\n",
    "cleaned_Author=np.array(data['cleaned_Author'])\n",
    "\n",
    "short_text=[]\n",
    "short_Author=[]\n",
    "\n",
    "for i in range(len(cleaned_text)):\n",
    "    if(len(cleaned_Author[i].split())<=max_Author_len and len(cleaned_text[i].split())<=max_text_len):\n",
    "        short_text.append(cleaned_text[i])\n",
    "        short_Author.append(cleaned_Author[i])\n",
    "        \n",
    "df=pd.DataFrame({'text':short_text,'Author':short_Author})"
   ]
  },
  {
   "cell_type": "code",
   "execution_count": 694,
   "id": "bearing-variable",
   "metadata": {},
   "outputs": [],
   "source": [
    "# add START and END special tokens (StartTok EndToken)\n",
    "df['Author'] = df['Author'].apply(lambda x : 'sostok '+ x + ' eostok')"
   ]
  },
  {
   "cell_type": "code",
   "execution_count": 695,
   "id": "superb-contact",
   "metadata": {},
   "outputs": [],
   "source": [
    "# splitting the data 90/10 using train_test_split function \n",
    "\n",
    "import numpy as np\n",
    "from sklearn.model_selection import train_test_split\n",
    "x_train,x_test,y_train,y_test=train_test_split(np.array(df['text']),np.array(df['Author']),test_size=0.1,random_state=0,shuffle=True)"
   ]
  },
  {
   "cell_type": "code",
   "execution_count": 696,
   "id": "macro-activation",
   "metadata": {},
   "outputs": [],
   "source": [
    "#Text Tokenizer \n",
    "\n",
    "from keras.preprocessing.text import Tokenizer \n",
    "from keras.preprocessing.sequence import pad_sequences\n",
    "\n",
    "#prepare a tokenizer for reviews on x_train data\n",
    "x_tokenizer = Tokenizer() \n",
    "x_tokenizer.fit_on_texts(list(x_train))"
   ]
  },
  {
   "cell_type": "code",
   "execution_count": 697,
   "id": "decimal-optimization",
   "metadata": {},
   "outputs": [],
   "source": [
    "\n",
    "# find the least used words by count limit here is 4times\n",
    "threshold=4 \n",
    "\n",
    "count=0\n",
    "tot_count=0\n",
    "freq=0\n",
    "tot_freq=0\n",
    "\n",
    "for key,value in x_tokenizer.word_counts.items():\n",
    "    tot_count=tot_count+1\n",
    "    tot_freq=tot_freq+value\n",
    "    if(value<threshold):\n",
    "        count=count+1\n",
    "        freq=freq+value\n",
    "    \n",
    "#print(\"Number of rare words in vocabulary:\",(count/tot_count))\n",
    "#print(\"Total Coverage of rare words:\",(freq/tot_freq))\n",
    "# we can remove those words that are used less than specific threshold and count them as rare words"
   ]
  },
  {
   "cell_type": "code",
   "execution_count": 698,
   "id": "magnetic-sewing",
   "metadata": {},
   "outputs": [
    {
     "data": {
      "text/plain": [
       "(3073, 3625, 4158, 9321)"
      ]
     },
     "execution_count": 698,
     "metadata": {},
     "output_type": "execute_result"
    }
   ],
   "source": [
    "count,tot_count,freq,tot_freq"
   ]
  },
  {
   "cell_type": "code",
   "execution_count": 699,
   "id": "excellent-uniform",
   "metadata": {},
   "outputs": [],
   "source": [
    "x_tokenizer = Tokenizer(num_words=tot_count-count) "
   ]
  },
  {
   "cell_type": "code",
   "execution_count": 700,
   "id": "animal-florida",
   "metadata": {},
   "outputs": [
    {
     "data": {
      "text/plain": [
       "<keras_preprocessing.text.Tokenizer at 0x19ad3e12160>"
      ]
     },
     "execution_count": 700,
     "metadata": {},
     "output_type": "execute_result"
    }
   ],
   "source": [
    "x_tokenizer"
   ]
  },
  {
   "cell_type": "code",
   "execution_count": 701,
   "id": "choice-minutes",
   "metadata": {},
   "outputs": [],
   "source": [
    "#prepare a tokenizer for reviews on training data\n",
    "words_count=tot_count-count #6716\n",
    "x_tokenizer = Tokenizer(num_words=6716) \n",
    "x_tokenizer.fit_on_texts(list(x_train))\n",
    "\n",
    "#convert text sequences into integer sequences texts_to_sequences\n",
    "x_train_seq    =   x_tokenizer.texts_to_sequences(x_train) \n",
    "x_test_seq   =   x_tokenizer.texts_to_sequences(x_test)\n",
    "\n",
    "#post padding  zero upto maximum length to unify the sentences lengths   \n",
    "x_train    =   pad_sequences(x_train_seq,  maxlen=max_text_len, padding='post')\n",
    "x_test   =   pad_sequences(x_test_seq, maxlen=max_text_len, padding='post')\n",
    "\n",
    "#size of vocabulary ( +1 for padding token)\n",
    "x_vocabulary   =  x_tokenizer.num_words + 1"
   ]
  },
  {
   "cell_type": "code",
   "execution_count": 702,
   "id": "beginning-subscriber",
   "metadata": {},
   "outputs": [
    {
     "data": {
      "text/plain": [
       "(6717,\n",
       " [[20, 363, 405, 145],\n",
       "  [444, 1709, 235, 3186, 3187, 531],\n",
       "  [434],\n",
       "  [85, 12],\n",
       "  [972, 3343, 2670, 22, 1681],\n",
       "  [597, 164, 211, 15],\n",
       "  [470, 648, 27, 648, 34],\n",
       "  [361, 831, 1025],\n",
       "  [702, 11, 8, 3098, 2807],\n",
       "  [47],\n",
       "  [80, 686, 121, 254, 303],\n",
       "  [20, 61, 1046, 45, 42, 832, 1],\n",
       "  [2151],\n",
       "  [86, 943, 59],\n",
       "  [6, 18, 19, 401, 699, 8, 93],\n",
       "  [60, 75],\n",
       "  [58, 2900, 10, 18, 53, 223],\n",
       "  [81, 983, 22, 400, 51, 83, 414],\n",
       "  [1937, 868, 1132],\n",
       "  [27, 145, 302],\n",
       "  [859, 2289, 222],\n",
       "  [31, 1429, 2853],\n",
       "  [44, 975],\n",
       "  [514, 107, 2673, 1131],\n",
       "  [541],\n",
       "  [181, 284, 164],\n",
       "  [2],\n",
       "  [1359, 93, 8, 151, 154],\n",
       "  [506, 100, 77, 3454, 2896],\n",
       "  [140, 1285],\n",
       "  [54, 264, 36, 515, 169],\n",
       "  [30],\n",
       "  [3420],\n",
       "  [647, 211, 179, 15],\n",
       "  [303, 27, 215, 2230],\n",
       "  [145, 496, 145, 3327],\n",
       "  [388, 22, 1051, 911, 105, 6],\n",
       "  [801, 290, 374, 21],\n",
       "  [3197, 1127, 221, 3],\n",
       "  [117, 192, 3516, 15, 741, 376],\n",
       "  [556, 821, 27, 622],\n",
       "  [2438, 2226],\n",
       "  [43, 341, 412, 175],\n",
       "  [33, 285],\n",
       "  [80, 82, 500],\n",
       "  [1133, 3443, 19],\n",
       "  [830, 1131, 605, 501, 189],\n",
       "  [44, 64, 3376, 26],\n",
       "  [87],\n",
       "  [649, 99, 69, 2066, 117],\n",
       "  [3, 2037],\n",
       "  [561, 804, 2036, 284, 764],\n",
       "  [3300, 793],\n",
       "  [3591, 831, 616],\n",
       "  [1, 956, 260],\n",
       "  [336, 448, 93],\n",
       "  [36, 2693],\n",
       "  [608, 36],\n",
       "  [3591, 301, 1263, 5],\n",
       "  [590],\n",
       "  [2267, 1165, 3348],\n",
       "  [],\n",
       "  [3, 852, 42, 392],\n",
       "  [98, 340, 8, 3540],\n",
       "  [707, 1115, 194, 783],\n",
       "  [27, 84, 873, 404, 1080, 630, 29],\n",
       "  [1290, 132, 647],\n",
       "  [1396],\n",
       "  [63, 160, 173, 42],\n",
       "  [229, 156, 121, 464, 1963, 40],\n",
       "  [33, 46, 673],\n",
       "  [],\n",
       "  [1858, 431],\n",
       "  [347, 1733, 195, 70],\n",
       "  [57, 57],\n",
       "  [180, 107],\n",
       "  [57, 2, 165, 120],\n",
       "  [1, 46, 356],\n",
       "  [1336, 1698, 709],\n",
       "  [589],\n",
       "  [610, 180],\n",
       "  [556, 23, 143, 684, 141, 106],\n",
       "  [1, 187, 418],\n",
       "  [491, 279, 3041],\n",
       "  [97, 2180, 577],\n",
       "  [6, 251, 1874, 34, 36, 120],\n",
       "  [93, 80, 56, 30, 364],\n",
       "  [130, 940, 83, 92, 218, 481],\n",
       "  [445, 53],\n",
       "  [55, 105, 45, 2695, 2652],\n",
       "  [245],\n",
       "  [277, 197, 100],\n",
       "  [259],\n",
       "  [504, 162],\n",
       "  [31],\n",
       "  [2655, 827, 1627],\n",
       "  [50, 373, 30],\n",
       "  [496, 983, 496, 1849, 1850, 641, 3, 1020, 1061],\n",
       "  [130, 750, 110, 1906],\n",
       "  [570, 9, 7, 28, 37],\n",
       "  [443, 174, 33],\n",
       "  [],\n",
       "  [149, 115, 136, 1094, 290],\n",
       "  [496, 244, 1131, 75],\n",
       "  [1, 646, 2300, 89, 1227],\n",
       "  [963, 234, 150, 1309],\n",
       "  [546],\n",
       "  [90, 20, 25, 113, 24, 639],\n",
       "  [170, 352, 170, 352, 693, 170, 35],\n",
       "  [1175, 561, 2022, 2104],\n",
       "  [5, 2, 1149, 539, 398],\n",
       "  [1891, 1892],\n",
       "  [5, 2, 103, 33, 358],\n",
       "  [243],\n",
       "  [1920, 1009, 1681, 87],\n",
       "  [78, 52, 784, 219, 437, 68, 58, 337],\n",
       "  [144, 651, 410, 335, 387],\n",
       "  [1041],\n",
       "  [230, 112, 111, 31],\n",
       "  [295],\n",
       "  [8, 1091],\n",
       "  [154, 3289, 266],\n",
       "  [],\n",
       "  [695, 11, 118],\n",
       "  [493, 72, 238, 8, 79, 116, 8],\n",
       "  [94, 293, 544],\n",
       "  [113, 44, 217],\n",
       "  [534, 947, 338, 895, 1314],\n",
       "  [1031, 71],\n",
       "  [5, 2, 229],\n",
       "  [783, 236],\n",
       "  [2939, 361, 2810, 361],\n",
       "  [638],\n",
       "  [10, 32, 55, 18],\n",
       "  [222],\n",
       "  [200, 27, 308, 377, 393, 1284, 39],\n",
       "  [4, 82, 371, 3424],\n",
       "  [6, 2561, 3171],\n",
       "  [462, 589],\n",
       "  [982, 66, 757, 2027],\n",
       "  [33, 607, 260, 74, 138, 164],\n",
       "  [1, 1223, 773],\n",
       "  [159, 336, 530, 2412, 226],\n",
       "  [559],\n",
       "  [903, 98, 3487, 4],\n",
       "  [31, 1890, 84, 142],\n",
       "  [2267, 272, 1383, 1500, 27, 25],\n",
       "  [1340],\n",
       "  [16, 197, 300, 1726, 172],\n",
       "  [147, 2055, 469, 13],\n",
       "  [],\n",
       "  [295, 387, 343, 1051, 1025],\n",
       "  [2004, 218],\n",
       "  [361, 1133, 361, 335, 96],\n",
       "  [200, 492],\n",
       "  [1985, 356],\n",
       "  [64, 277, 597, 601, 372, 1996],\n",
       "  [1792, 1793],\n",
       "  [993],\n",
       "  [4, 648, 237, 307, 2406],\n",
       "  [1890, 1031, 112, 46],\n",
       "  [],\n",
       "  [38, 257, 296, 120, 656, 229],\n",
       "  [256, 1011, 26, 805, 152, 127],\n",
       "  [8, 1699, 2843, 167, 599],\n",
       "  [126, 5, 2, 709, 91],\n",
       "  [711, 3282, 154],\n",
       "  [720, 13],\n",
       "  [465, 128],\n",
       "  [13, 743, 257, 1240, 206, 699],\n",
       "  [2877, 1999],\n",
       "  [1814, 58, 1, 2841],\n",
       "  [26, 160],\n",
       "  [3300, 793],\n",
       "  [346, 3604, 664],\n",
       "  [2466, 732, 229, 934, 26, 2513],\n",
       "  [1445, 97],\n",
       "  [708, 1985, 93, 1, 148],\n",
       "  [1704, 1168, 992],\n",
       "  [4, 360, 640],\n",
       "  [221, 1440, 167, 527, 3228, 1188],\n",
       "  [21, 1191],\n",
       "  [463, 148, 1196],\n",
       "  [86, 3579, 12, 75],\n",
       "  [2016, 1048, 437, 2909],\n",
       "  [388, 63, 12],\n",
       "  [789, 649],\n",
       "  [3232, 215, 690],\n",
       "  [2446, 2846, 522, 9],\n",
       "  [590, 424, 140],\n",
       "  [361],\n",
       "  [3459, 476, 844],\n",
       "  [27],\n",
       "  [2036, 3151, 1, 1159, 267],\n",
       "  [556, 9, 7, 28, 95, 23],\n",
       "  [3186, 1241, 402],\n",
       "  [3375, 407, 531, 392],\n",
       "  [621, 560, 433],\n",
       "  [350, 8, 296, 118, 63, 17, 64],\n",
       "  [269, 1551, 35, 1171],\n",
       "  [128, 69, 171, 44],\n",
       "  [645],\n",
       "  [5, 620],\n",
       "  [1404],\n",
       "  [325, 1222, 165, 11, 98],\n",
       "  [1, 199, 3591],\n",
       "  [45, 72, 129, 2916, 3416],\n",
       "  [399, 3275],\n",
       "  [237, 1220],\n",
       "  [3237, 3237, 270, 11],\n",
       "  [69],\n",
       "  [150, 271, 561, 2663, 596, 3395],\n",
       "  [78, 5, 18, 131, 49],\n",
       "  [1205],\n",
       "  [1],\n",
       "  [16, 113, 126, 2973],\n",
       "  [757, 212, 2027],\n",
       "  [2159, 2160, 202, 116, 60, 131],\n",
       "  [828, 1857],\n",
       "  [8, 650],\n",
       "  [2626, 5, 2, 43, 82, 1616],\n",
       "  [115],\n",
       "  [8, 63, 12, 19],\n",
       "  [112],\n",
       "  [103, 2961, 1639]])"
      ]
     },
     "execution_count": 702,
     "metadata": {},
     "output_type": "execute_result"
    }
   ],
   "source": [
    "x_vocabulary,x_test_seq"
   ]
  },
  {
   "cell_type": "code",
   "execution_count": 703,
   "id": "czech-label",
   "metadata": {},
   "outputs": [],
   "source": [
    "#prepare a tokenizer for novels text on training data\n",
    "#prepare a tokenizer for text by authose on training data\n",
    "#prepare a tokenizer for reviews on training data\n",
    "y_tokenizer = Tokenizer()   \n",
    "y_tokenizer.fit_on_texts(list(y_train))"
   ]
  },
  {
   "cell_type": "code",
   "execution_count": 704,
   "id": "chubby-interim",
   "metadata": {},
   "outputs": [
    {
     "name": "stdout",
     "output_type": "stream",
     "text": [
      "number of rare words in vocabulary: 0.0\n",
      "Total Coverage of rare words: 0.0\n"
     ]
    }
   ],
   "source": [
    "\n",
    "# find the least used words by count limit here is 6times for Y\n",
    "\n",
    "threshold=6\n",
    "\n",
    "count=0\n",
    "tot_count=0\n",
    "freq=0\n",
    "tot_freq=0\n",
    "\n",
    "for key,value in y_tokenizer.word_counts.items():\n",
    "    tot_count=tot_count+1\n",
    "    tot_freq=tot_freq+value\n",
    "    if(value<threshold):\n",
    "        count=count+1\n",
    "        freq=freq+value\n",
    "    \n",
    "print(\"number of rare words in vocabulary:\",(count/tot_count))\n",
    "print(\"Total Coverage of rare words:\",(freq/tot_freq))\n",
    "# we can remove those words that are used less than specific threshold and count them as rare words"
   ]
  },
  {
   "cell_type": "code",
   "execution_count": 705,
   "id": "collectible-effectiveness",
   "metadata": {},
   "outputs": [
    {
     "name": "stdout",
     "output_type": "stream",
     "text": [
      "7\n"
     ]
    }
   ],
   "source": [
    "words_count=tot_count-count\n",
    "print(words_count)\n",
    "# we can remove those words that are used less than specific threshold and count them as rare words"
   ]
  },
  {
   "cell_type": "code",
   "execution_count": 706,
   "id": "statewide-candy",
   "metadata": {},
   "outputs": [],
   "source": [
    "\n",
    "words_count=tot_count-count\n",
    "y_tokenizer = Tokenizer(num_words=words_count) \n",
    "y_tokenizer.fit_on_texts(list(y_train))\n",
    "\n",
    "#convert text sequences into integer sequences using texts_to_sequences\n",
    "y_train_seq    =   y_tokenizer.texts_to_sequences(y_train) \n",
    "y_test_seq   =   y_tokenizer.texts_to_sequences(y_test) \n",
    "\n",
    "#padding zero upto maximum length\n",
    "y_train    =   pad_sequences(y_train_seq, maxlen=max_Author_len, padding='post')\n",
    "y_test   =   pad_sequences(y_test_seq, maxlen=max_Author_len, padding='post')\n",
    "\n",
    "#size of vocabulary\n",
    "y_vocabulary  =   y_tokenizer.num_words +1"
   ]
  },
  {
   "cell_type": "code",
   "execution_count": 707,
   "id": "macro-steal",
   "metadata": {},
   "outputs": [
    {
     "data": {
      "text/plain": [
       "(2020, 2020)"
      ]
     },
     "execution_count": 707,
     "metadata": {},
     "output_type": "execute_result"
    }
   ],
   "source": [
    "# check the length of both train and Y before and after tokanizing , they must be equal \n",
    "y_tokenizer.word_counts['sostok'],len(y_train)"
   ]
  },
  {
   "cell_type": "code",
   "execution_count": 708,
   "id": "eleven-spray",
   "metadata": {},
   "outputs": [],
   "source": [
    "from keras import backend as K\n",
    "from tensorflow.python.framework import ops\n",
    "ops.reset_default_graph()"
   ]
  },
  {
   "cell_type": "code",
   "execution_count": 709,
   "id": "fabulous-october",
   "metadata": {},
   "outputs": [],
   "source": [
    "import tensorflow as tf "
   ]
  },
  {
   "cell_type": "code",
   "execution_count": 710,
   "id": "aggressive-wholesale",
   "metadata": {},
   "outputs": [],
   "source": [
    "from keras import backend as K   \n",
    "latent_dim = 300 # ususally its 300 feature matrix \n",
    "embedding_dim=100\n",
    " "
   ]
  },
  {
   "cell_type": "code",
   "execution_count": 711,
   "id": "dominican-forge",
   "metadata": {},
   "outputs": [],
   "source": [
    "from tensorflow.keras.layers import Attention\n",
    "from attention import AttentionLayer\n",
    " "
   ]
  },
  {
   "cell_type": "code",
   "execution_count": 712,
   "id": "muslim-tender",
   "metadata": {},
   "outputs": [
    {
     "data": {
      "image/png": "[encoded data removed]",
      "text/plain": [
       "<IPython.core.display.Image object>"
      ]
     },
     "execution_count": 712,
     "metadata": {
      "image/png": {
       "height": 500,
       "width": 500
      }
     },
     "output_type": "execute_result"
    }
   ],
   "source": [
    "from IPython import display\n",
    "from IPython.display import Image\n",
    "PATH = \"C:/Users/Ruba/Desktop/Author Detection/\"\n",
    "Image(filename = PATH + \"2RecursivemodelRNN.png\", width=500, height=500)"
   ]
  },
  {
   "cell_type": "code",
   "execution_count": 713,
   "id": "spare-worship",
   "metadata": {},
   "outputs": [],
   "source": [
    "\n",
    "##Build Recursive Model :: decoder is given an opportunity to use the previously generated words and the source document\n",
    "# Encoder encodes it into an internal representation, often a fixed-length vector called the context vector.\n",
    "encoder_inputs = Input(shape=(max_text_len,))\n",
    "\n",
    "#embedding layer\n",
    "encoder_emb =  Embedding(x_vocabulary, embedding_dim,trainable=True)(encoder_inputs)\n",
    "\n",
    "#encoder lstm 1 ,latent_dim = 300\n",
    "encoder_lstm1 = LSTM(latent_dim,return_sequences=True,return_state=True,dropout=0.4,recurrent_dropout=0.4)\n",
    "encoder_outputs, state_h, state_c = encoder_lstm1(encoder_emb)\n"
   ]
  },
  {
   "cell_type": "code",
   "execution_count": 714,
   "id": "round-announcement",
   "metadata": {},
   "outputs": [],
   "source": [
    "# I tried adding many LSTM but the accuracy wasn't enhanced to I decided to onle keep one layer"
   ]
  },
  {
   "cell_type": "code",
   "execution_count": 715,
   "id": "charitable-taste",
   "metadata": {},
   "outputs": [],
   "source": [
    "\n",
    "#encoder lstm 2\n",
    "#encoder_lstm2 = LSTM(latent_dim,return_sequences=True,return_state=True,dropout=0.4,recurrent_dropout=0.4)\n",
    "#encoder_outputs, state_h, state_c = encoder_lstm2(encoder_output1)\n",
    "\n",
    "#encoder lstm 3\n",
    "#encoder_lstm3=LSTM(latent_dim, return_state=True, return_sequences=True,dropout=0.4,recurrent_dropout=0.4)\n",
    "#encoder_outputs, state_h, state_c= encoder_lstm3(encoder_output2)\n",
    "\n",
    "# Set up the decoder, using `encoder_states` as initial state.\n",
    "\n"
   ]
  },
  {
   "cell_type": "code",
   "execution_count": 716,
   "id": "sonic-force",
   "metadata": {},
   "outputs": [],
   "source": [
    "\n",
    "#encoder lstm 2\n",
    "#encoder_lstm2 = LSTM(latent_dim,return_sequences=True,return_state=True,dropout=0.4,recurrent_dropout=0.4)\n",
    "#encoder_outputs, state_h, state_c = encoder_lstm2(encoder_output1)\n",
    "\n",
    "#encoder lstm 3\n",
    "#encoder_lstm3=LSTM(latent_dim, return_state=True, return_sequences=True,dropout=0.4,recurrent_dropout=0.4)\n",
    "#encoder_outputs, state_h, state_c= encoder_lstm3(encoder_output2)\n",
    "\n",
    "#decoder_inputs = Input(shape=(None,))\n",
    "\n"
   ]
  },
  {
   "cell_type": "code",
   "execution_count": 717,
   "id": "cellular-motorcycle",
   "metadata": {},
   "outputs": [],
   "source": [
    "decoder_inputs = Input(shape=(None,))\n",
    "#embedding layer\n",
    "decoder_emb_layer = Embedding(y_vocabulary, embedding_dim,trainable=True)\n",
    "decoder_emb = decoder_emb_layer(decoder_inputs)\n",
    "\n",
    "decoder_lstm = LSTM(latent_dim, return_sequences=True, return_state=True,dropout=0.4,recurrent_dropout=0.2)\n",
    "decoder_outputs,decoder_fwd_state, decoder_back_state = decoder_lstm(decoder_emb,initial_state=[state_h, state_c])\n",
    "\n"
   ]
  },
  {
   "cell_type": "code",
   "execution_count": 718,
   "id": "plain-beatles",
   "metadata": {},
   "outputs": [],
   "source": [
    "# Attention layer class was added manually  \n",
    "attnention_layer = AttentionLayer(name='attention_layer')\n",
    "\n"
   ]
  },
  {
   "cell_type": "code",
   "execution_count": 719,
   "id": "sustainable-institute",
   "metadata": {},
   "outputs": [
    {
     "data": {
      "text/plain": [
       "TensorShape([None, 30, 300])"
      ]
     },
     "execution_count": 719,
     "metadata": {},
     "output_type": "execute_result"
    }
   ],
   "source": [
    "encoder_outputs.shape"
   ]
  },
  {
   "cell_type": "code",
   "execution_count": 720,
   "id": "departmental-joining",
   "metadata": {},
   "outputs": [
    {
     "data": {
      "text/plain": [
       "TensorShape([None, None, 300])"
      ]
     },
     "execution_count": 720,
     "metadata": {},
     "output_type": "execute_result"
    }
   ],
   "source": [
    "decoder_outputs.shape"
   ]
  },
  {
   "cell_type": "code",
   "execution_count": 721,
   "id": "moving-coverage",
   "metadata": {},
   "outputs": [],
   "source": [
    "attnention_out, attnention_states = attnention_layer([encoder_outputs, decoder_outputs])\n"
   ]
  },
  {
   "cell_type": "code",
   "execution_count": 722,
   "id": "southwest-stretch",
   "metadata": {},
   "outputs": [],
   "source": [
    "# Concat attention input and decoder LSTM output, since its concatenation the dimention matching is nore vital here\n",
    "decoder_concat_input = Concatenate(axis=-1, name='concat_layer')([decoder_outputs, attnention_out])"
   ]
  },
  {
   "cell_type": "code",
   "execution_count": 723,
   "id": "altered-state",
   "metadata": {},
   "outputs": [
    {
     "name": "stdout",
     "output_type": "stream",
     "text": [
      "Model: \"model\"\n",
      "__________________________________________________________________________________________________\n",
      "Layer (type)                    Output Shape         Param #     Connected to                     \n",
      "==================================================================================================\n",
      "input_30 (InputLayer)           [(None, 30)]         0                                            \n",
      "__________________________________________________________________________________________________\n",
      "input_31 (InputLayer)           [(None, None)]       0                                            \n",
      "__________________________________________________________________________________________________\n",
      "embedding (Embedding)           (None, 30, 100)      671700      input_30[0][0]                   \n",
      "__________________________________________________________________________________________________\n",
      "embedding_1 (Embedding)         (None, None, 100)    800         input_31[0][0]                   \n",
      "__________________________________________________________________________________________________\n",
      "lstm (LSTM)                     [(None, 30, 300), (N 481200      embedding[0][0]                  \n",
      "__________________________________________________________________________________________________\n",
      "lstm_1 (LSTM)                   [(None, None, 300),  481200      embedding_1[0][0]                \n",
      "                                                                 lstm[0][1]                       \n",
      "                                                                 lstm[0][2]                       \n",
      "__________________________________________________________________________________________________\n",
      "attention_layer (AttentionLayer ((None, None, 300),  180300      lstm[0][0]                       \n",
      "                                                                 lstm_1[0][0]                     \n",
      "__________________________________________________________________________________________________\n",
      "concat_layer (Concatenate)      (None, None, 600)    0           lstm_1[0][0]                     \n",
      "                                                                 attention_layer[0][0]            \n",
      "__________________________________________________________________________________________________\n",
      "time_distributed (TimeDistribut (None, None, 8)      4808        concat_layer[0][0]               \n",
      "==================================================================================================\n",
      "Total params: 1,820,008\n",
      "Trainable params: 1,820,008\n",
      "Non-trainable params: 0\n",
      "__________________________________________________________________________________________________\n"
     ]
    }
   ],
   "source": [
    "\n",
    "#dense layer\n",
    "decoder_denselayer =  TimeDistributed(Dense(y_vocabulary, activation='softmax'))\n",
    "# The TimeDistributed wrapper allows the same output layer to be reused for each element in the output sequence.\n",
    "decoder_outputs = decoder_denselayer(decoder_concat_input)\n",
    "\n",
    "# Define the model \n",
    "model = Model([encoder_inputs, decoder_inputs], decoder_outputs)\n",
    "\n",
    "model.summary()"
   ]
  },
  {
   "cell_type": "code",
   "execution_count": 724,
   "id": "disturbed-virgin",
   "metadata": {},
   "outputs": [
    {
     "data": {
      "text/plain": [
       "tensorflow.python.keras.layers.dense_attention.Attention"
      ]
     },
     "execution_count": 724,
     "metadata": {},
     "output_type": "execute_result"
    }
   ],
   "source": [
    "tf.keras.layers.Attention"
   ]
  },
  {
   "cell_type": "code",
   "execution_count": 725,
   "id": "chemical-commissioner",
   "metadata": {},
   "outputs": [],
   "source": [
    "model.compile(optimizer='adam', loss='sparse_categorical_crossentropy')"
   ]
  },
  {
   "cell_type": "code",
   "execution_count": 726,
   "id": "grave-consumption",
   "metadata": {},
   "outputs": [],
   "source": [
    "#es = EarlyStopping(monitor='val_loss', mode='min', verbose=1,patience=2)\n",
    "es = EarlyStopping(patience=100, monitor='val_loss', restore_best_weights=True) #accuracy, loss, val_loss, val_accuracy"
   ]
  },
  {
   "cell_type": "code",
   "execution_count": 727,
   "id": "meaningful-negotiation",
   "metadata": {},
   "outputs": [
    {
     "name": "stdout",
     "output_type": "stream",
     "text": [
      "Epoch 1/700\n",
      "16/16 [==============================] - 17s 599ms/step - loss: 1.7940 - val_loss: 0.7831\n",
      "Epoch 2/700\n",
      "16/16 [==============================] - 8s 522ms/step - loss: 0.5682 - val_loss: 0.3305\n",
      "Epoch 3/700\n",
      "16/16 [==============================] - 8s 509ms/step - loss: 0.2917 - val_loss: 0.2360\n",
      "Epoch 4/700\n",
      "16/16 [==============================] - 8s 502ms/step - loss: 0.2035 - val_loss: 0.1911\n",
      "Epoch 5/700\n",
      "16/16 [==============================] - 8s 502ms/step - loss: 0.1273 - val_loss: 0.1638\n",
      "Epoch 6/700\n",
      "16/16 [==============================] - 8s 501ms/step - loss: 0.0688 - val_loss: 0.1844\n",
      "Epoch 7/700\n",
      "16/16 [==============================] - 8s 511ms/step - loss: 0.0397 - val_loss: 0.1124\n",
      "Epoch 8/700\n",
      "16/16 [==============================] - 8s 505ms/step - loss: 0.0216 - val_loss: 0.1606\n",
      "Epoch 9/700\n",
      "16/16 [==============================] - 8s 506ms/step - loss: 0.0167 - val_loss: 0.1521\n",
      "Epoch 10/700\n",
      "16/16 [==============================] - 8s 502ms/step - loss: 0.0091 - val_loss: 0.1678\n",
      "Epoch 11/700\n",
      "16/16 [==============================] - 8s 502ms/step - loss: 0.0075 - val_loss: 0.1494\n",
      "Epoch 12/700\n",
      "16/16 [==============================] - 8s 497ms/step - loss: 0.0065 - val_loss: 0.1533\n",
      "Epoch 13/700\n",
      "16/16 [==============================] - 8s 511ms/step - loss: 0.0066 - val_loss: 0.1983\n",
      "Epoch 14/700\n",
      "16/16 [==============================] - 8s 507ms/step - loss: 0.0052 - val_loss: 0.2011\n",
      "Epoch 15/700\n",
      "16/16 [==============================] - 8s 502ms/step - loss: 0.0055 - val_loss: 0.1539\n",
      "Epoch 16/700\n",
      "16/16 [==============================] - 8s 508ms/step - loss: 0.0060 - val_loss: 0.1928\n",
      "Epoch 17/700\n",
      "16/16 [==============================] - 8s 508ms/step - loss: 0.0058 - val_loss: 0.1603\n",
      "Epoch 18/700\n",
      "16/16 [==============================] - 8s 506ms/step - loss: 0.0051 - val_loss: 0.1534\n",
      "Epoch 19/700\n",
      "16/16 [==============================] - 8s 504ms/step - loss: 0.0053 - val_loss: 0.2210\n",
      "Epoch 20/700\n",
      "16/16 [==============================] - 8s 503ms/step - loss: 0.0043 - val_loss: 0.1893\n",
      "Epoch 21/700\n",
      "16/16 [==============================] - 8s 509ms/step - loss: 0.0052 - val_loss: 0.1833\n",
      "Epoch 22/700\n",
      "16/16 [==============================] - 8s 504ms/step - loss: 0.0031 - val_loss: 0.2240\n",
      "Epoch 23/700\n",
      "16/16 [==============================] - 8s 502ms/step - loss: 0.0034 - val_loss: 0.1912\n",
      "Epoch 24/700\n",
      "16/16 [==============================] - 8s 500ms/step - loss: 0.0034 - val_loss: 0.1579\n",
      "Epoch 25/700\n",
      "16/16 [==============================] - 8s 505ms/step - loss: 0.0050 - val_loss: 0.1667\n",
      "Epoch 26/700\n",
      "16/16 [==============================] - 8s 504ms/step - loss: 0.0044 - val_loss: 0.1607\n",
      "Epoch 27/700\n",
      "16/16 [==============================] - 8s 504ms/step - loss: 0.0029 - val_loss: 0.1803\n",
      "Epoch 28/700\n",
      "16/16 [==============================] - 8s 500ms/step - loss: 0.0034 - val_loss: 0.2042\n",
      "Epoch 29/700\n",
      "16/16 [==============================] - 8s 499ms/step - loss: 0.0029 - val_loss: 0.1803\n",
      "Epoch 30/700\n",
      "16/16 [==============================] - 8s 501ms/step - loss: 0.0030 - val_loss: 0.1985\n",
      "Epoch 31/700\n",
      "16/16 [==============================] - 8s 500ms/step - loss: 0.0038 - val_loss: 0.1976\n",
      "Epoch 32/700\n",
      "16/16 [==============================] - 8s 501ms/step - loss: 0.0026 - val_loss: 0.1941\n",
      "Epoch 33/700\n",
      "16/16 [==============================] - 8s 503ms/step - loss: 0.0034 - val_loss: 0.2356\n",
      "Epoch 34/700\n",
      "16/16 [==============================] - 8s 507ms/step - loss: 0.0040 - val_loss: 0.1623\n",
      "Epoch 35/700\n",
      "16/16 [==============================] - 8s 503ms/step - loss: 0.0033 - val_loss: 0.1822\n",
      "Epoch 36/700\n",
      "16/16 [==============================] - 8s 504ms/step - loss: 0.0022 - val_loss: 0.2390\n",
      "Epoch 37/700\n",
      "16/16 [==============================] - 8s 503ms/step - loss: 0.0034 - val_loss: 0.1843\n",
      "Epoch 38/700\n",
      "16/16 [==============================] - 10s 610ms/step - loss: 0.0035 - val_loss: 0.1962\n",
      "Epoch 39/700\n",
      "16/16 [==============================] - 8s 492ms/step - loss: 0.0399 - val_loss: 0.4029\n",
      "Epoch 40/700\n",
      "16/16 [==============================] - 7s 465ms/step - loss: 0.0255 - val_loss: 0.1927\n",
      "Epoch 41/700\n",
      "16/16 [==============================] - 7s 454ms/step - loss: 0.0117 - val_loss: 0.2293\n",
      "Epoch 42/700\n",
      "16/16 [==============================] - 7s 445ms/step - loss: 0.0072 - val_loss: 0.2705\n",
      "Epoch 43/700\n",
      "16/16 [==============================] - 7s 454ms/step - loss: 0.0085 - val_loss: 0.2647\n",
      "Epoch 44/700\n",
      "16/16 [==============================] - 7s 452ms/step - loss: 0.0061 - val_loss: 0.2518\n",
      "Epoch 45/700\n",
      "16/16 [==============================] - 7s 455ms/step - loss: 0.0059 - val_loss: 0.3190\n",
      "Epoch 46/700\n",
      "16/16 [==============================] - 7s 453ms/step - loss: 0.0084 - val_loss: 0.2399\n",
      "Epoch 47/700\n",
      "16/16 [==============================] - 7s 454ms/step - loss: 0.0043 - val_loss: 0.2674\n",
      "Epoch 48/700\n",
      "16/16 [==============================] - 7s 454ms/step - loss: 0.0041 - val_loss: 0.2750\n",
      "Epoch 49/700\n",
      "16/16 [==============================] - 7s 452ms/step - loss: 0.0044 - val_loss: 0.2800\n",
      "Epoch 50/700\n",
      "16/16 [==============================] - 7s 448ms/step - loss: 0.0034 - val_loss: 0.2648\n",
      "Epoch 51/700\n",
      "16/16 [==============================] - 7s 451ms/step - loss: 0.0041 - val_loss: 0.2827\n",
      "Epoch 52/700\n",
      "16/16 [==============================] - 7s 453ms/step - loss: 0.0043 - val_loss: 0.2313\n",
      "Epoch 53/700\n",
      "16/16 [==============================] - 7s 447ms/step - loss: 0.0054 - val_loss: 0.2188\n",
      "Epoch 54/700\n",
      "16/16 [==============================] - 7s 448ms/step - loss: 0.0039 - val_loss: 0.2417\n",
      "Epoch 55/700\n",
      "16/16 [==============================] - 7s 442ms/step - loss: 0.0042 - val_loss: 0.2503\n",
      "Epoch 56/700\n",
      "16/16 [==============================] - 7s 452ms/step - loss: 0.0035 - val_loss: 0.2325\n",
      "Epoch 57/700\n",
      "16/16 [==============================] - 7s 452ms/step - loss: 0.0029 - val_loss: 0.2646\n",
      "Epoch 58/700\n",
      "16/16 [==============================] - 7s 458ms/step - loss: 0.0028 - val_loss: 0.2453\n",
      "Epoch 59/700\n",
      "16/16 [==============================] - 7s 446ms/step - loss: 0.0032 - val_loss: 0.2553\n",
      "Epoch 60/700\n",
      "16/16 [==============================] - 7s 448ms/step - loss: 0.0032 - val_loss: 0.2462\n",
      "Epoch 61/700\n",
      "16/16 [==============================] - 7s 458ms/step - loss: 0.0018 - val_loss: 0.2691\n",
      "Epoch 62/700\n",
      "16/16 [==============================] - 7s 457ms/step - loss: 0.0042 - val_loss: 0.2781\n",
      "Epoch 63/700\n",
      "16/16 [==============================] - 7s 453ms/step - loss: 0.0037 - val_loss: 0.2431\n",
      "Epoch 64/700\n",
      "16/16 [==============================] - 7s 443ms/step - loss: 0.0020 - val_loss: 0.2743\n",
      "Epoch 65/700\n",
      "16/16 [==============================] - 7s 457ms/step - loss: 0.0028 - val_loss: 0.2565\n",
      "Epoch 66/700\n",
      "16/16 [==============================] - 7s 452ms/step - loss: 0.0025 - val_loss: 0.2766\n",
      "Epoch 67/700\n",
      "16/16 [==============================] - 7s 449ms/step - loss: 0.0036 - val_loss: 0.2453\n",
      "Epoch 68/700\n",
      "16/16 [==============================] - 7s 454ms/step - loss: 0.0029 - val_loss: 0.2534\n",
      "Epoch 69/700\n",
      "16/16 [==============================] - 7s 454ms/step - loss: 0.0027 - val_loss: 0.2447\n",
      "Epoch 70/700\n",
      "16/16 [==============================] - 7s 454ms/step - loss: 0.0017 - val_loss: 0.2518\n",
      "Epoch 71/700\n",
      "16/16 [==============================] - 7s 451ms/step - loss: 0.0019 - val_loss: 0.2901\n",
      "Epoch 72/700\n",
      "16/16 [==============================] - 7s 452ms/step - loss: 0.0013 - val_loss: 0.2501\n",
      "Epoch 73/700\n",
      "16/16 [==============================] - 7s 454ms/step - loss: 0.0019 - val_loss: 0.2783\n",
      "Epoch 74/700\n",
      "16/16 [==============================] - 7s 455ms/step - loss: 0.0032 - val_loss: 0.2417\n",
      "Epoch 75/700\n",
      "16/16 [==============================] - 7s 447ms/step - loss: 0.0019 - val_loss: 0.2514\n",
      "Epoch 76/700\n",
      "16/16 [==============================] - 7s 455ms/step - loss: 0.0035 - val_loss: 0.3016\n",
      "Epoch 77/700\n",
      "16/16 [==============================] - 7s 444ms/step - loss: 0.0044 - val_loss: 0.2410\n",
      "Epoch 78/700\n",
      "16/16 [==============================] - 7s 455ms/step - loss: 0.0034 - val_loss: 0.2618\n",
      "Epoch 79/700\n",
      "16/16 [==============================] - 7s 448ms/step - loss: 0.0025 - val_loss: 0.2451\n",
      "Epoch 80/700\n",
      "16/16 [==============================] - 7s 446ms/step - loss: 0.0034 - val_loss: 0.2541\n",
      "Epoch 81/700\n",
      "16/16 [==============================] - 7s 453ms/step - loss: 0.0024 - val_loss: 0.2742\n",
      "Epoch 82/700\n",
      "16/16 [==============================] - 7s 460ms/step - loss: 0.0023 - val_loss: 0.2749\n",
      "Epoch 83/700\n",
      "16/16 [==============================] - 7s 452ms/step - loss: 0.0025 - val_loss: 0.2713\n",
      "Epoch 84/700\n",
      "16/16 [==============================] - 7s 447ms/step - loss: 0.0023 - val_loss: 0.2900\n",
      "Epoch 85/700\n",
      "16/16 [==============================] - 7s 447ms/step - loss: 0.0039 - val_loss: 0.2386\n",
      "Epoch 86/700\n",
      "16/16 [==============================] - 7s 446ms/step - loss: 0.0021 - val_loss: 0.2638\n",
      "Epoch 87/700\n",
      "16/16 [==============================] - 7s 452ms/step - loss: 0.0018 - val_loss: 0.2655\n",
      "Epoch 88/700\n",
      "16/16 [==============================] - 7s 442ms/step - loss: 0.0024 - val_loss: 0.2612\n",
      "Epoch 89/700\n",
      "16/16 [==============================] - 7s 457ms/step - loss: 0.0019 - val_loss: 0.2652\n",
      "Epoch 90/700\n",
      "16/16 [==============================] - 7s 455ms/step - loss: 0.0022 - val_loss: 0.2683\n",
      "Epoch 91/700\n",
      "16/16 [==============================] - 7s 454ms/step - loss: 0.0030 - val_loss: 0.2643\n",
      "Epoch 92/700\n",
      "16/16 [==============================] - 7s 453ms/step - loss: 0.0021 - val_loss: 0.2589\n",
      "Epoch 93/700\n",
      "16/16 [==============================] - 7s 447ms/step - loss: 0.0026 - val_loss: 0.2759\n",
      "Epoch 94/700\n",
      "16/16 [==============================] - 7s 449ms/step - loss: 0.0019 - val_loss: 0.2521\n",
      "Epoch 95/700\n",
      "16/16 [==============================] - 7s 445ms/step - loss: 0.0018 - val_loss: 0.2781\n",
      "Epoch 96/700\n",
      "16/16 [==============================] - 7s 451ms/step - loss: 0.0015 - val_loss: 0.3138\n",
      "Epoch 97/700\n",
      "16/16 [==============================] - 7s 455ms/step - loss: 0.0023 - val_loss: 0.3065\n",
      "Epoch 98/700\n",
      "16/16 [==============================] - 7s 452ms/step - loss: 0.0017 - val_loss: 0.2859\n",
      "Epoch 99/700\n",
      "16/16 [==============================] - 7s 448ms/step - loss: 0.0024 - val_loss: 0.2601\n",
      "Epoch 100/700\n",
      "16/16 [==============================] - 7s 452ms/step - loss: 0.0022 - val_loss: 0.2829\n",
      "Epoch 101/700\n",
      "16/16 [==============================] - 7s 457ms/step - loss: 0.0016 - val_loss: 0.2748\n",
      "Epoch 102/700\n",
      "16/16 [==============================] - 7s 450ms/step - loss: 0.0018 - val_loss: 0.2800\n",
      "Epoch 103/700\n",
      "16/16 [==============================] - 7s 463ms/step - loss: 0.0015 - val_loss: 0.2923\n",
      "Epoch 104/700\n",
      "16/16 [==============================] - 7s 453ms/step - loss: 0.0015 - val_loss: 0.2650\n",
      "Epoch 105/700\n",
      "16/16 [==============================] - 7s 453ms/step - loss: 0.0019 - val_loss: 0.2616\n",
      "Epoch 106/700\n",
      "16/16 [==============================] - 7s 450ms/step - loss: 0.0019 - val_loss: 0.2882\n",
      "Epoch 107/700\n",
      "16/16 [==============================] - 7s 455ms/step - loss: 0.0020 - val_loss: 0.2712\n"
     ]
    }
   ],
   "source": [
    "history=model.fit([x_train,y_train[:,:-1]], y_train.reshape(y_train.shape[0],y_train.shape[1], 1)[:,1:] ,\n",
    "                  epochs=700,callbacks=[es],batch_size=128, \n",
    "                  validation_data=([x_test,y_test[:,:-1]], y_test.reshape(y_test.shape[0],y_test.shape[1], 1)[:,1:]))"
   ]
  },
  {
   "cell_type": "code",
   "execution_count": 635,
   "id": "relative-carry",
   "metadata": {},
   "outputs": [],
   "source": [
    "from sklearn.metrics import roc_curve\n"
   ]
  },
  {
   "cell_type": "code",
   "execution_count": 558,
   "id": "portable-anderson",
   "metadata": {},
   "outputs": [],
   "source": [
    "#from sklearn.metrics import precision_recall_curve\n",
    "#precision, recall, thresholds = precision_recall_curve(y_test,logreg_train.decision_function(X_test))"
   ]
  },
  {
   "cell_type": "code",
   "execution_count": 559,
   "id": "contained-phone",
   "metadata": {},
   "outputs": [],
   "source": [
    "#close_zero = np.argmin(np.abs(thresholds))\n",
    "#plt.plot(fpr[close_zero], tpr[close_zero], 'o', markersize=10, \n",
    "#label=\"threshold zero(default)\", fillstyle=\"none\", c='k', mew=2)\n",
    "#plt.plot([0,1], linestyle=' — ', lw=2, color='r', label='random', alpha=0.8)\n",
    "#plt.legend(loc=4)\n",
    "#plt.plot(fpr, tpr, label=\"ROC Curve\")\n",
    "#plt.xlabel(\"False Positive Rate\")\n",
    "#plt.ylabel(\"True Positive Rate (recall)\")\n",
    "#plt.title(\"roc_curve\");\n",
    "#from sklearn.metrics import auc\n",
    "#print(\"AUC score is: \", auc(fpr, tpr));"
   ]
  },
  {
   "cell_type": "code",
   "execution_count": 560,
   "id": "martial-forty",
   "metadata": {},
   "outputs": [
    {
     "name": "stdout",
     "output_type": "stream",
     "text": [
      "2020\n",
      "2020\n",
      "2020\n",
      "5\n",
      "2020\n",
      "225\n",
      "225\n",
      "225\n",
      "5\n"
     ]
    }
   ],
   "source": [
    "print(x_train.shape[0]) #2020\n",
    "print(y_train[:,:-1].shape[0]) #2020\n",
    "print(y_train.shape[0]) #2020\n",
    "print(y_train.shape[1]) #5\n",
    "print(y_train.reshape(y_train.shape[0],y_train.shape[1], 1)[:,1:].shape[0]) #2020\n",
    "\n",
    "print(x_test.shape[0]) #225\n",
    "print(y_test[:,:-1].shape[0]) #225\n",
    "print(y_test.shape[0]) #225\n",
    "print(y_test.shape[1]) #5"
   ]
  },
  {
   "cell_type": "code",
   "execution_count": 561,
   "id": "accurate-voltage",
   "metadata": {},
   "outputs": [],
   "source": [
    "#from sklearn.pipeline import make_pipeline\n",
    "#from sklearn.model_selection import GridSearchCV\n",
    "#from sklearn.metrics import confusion_matrix\n",
    "#from sklearn.linear_model import LogisticRegression\n",
    "#logreg = LogisticRegression(class_weight=\"balanced\", random_state=0)\n",
    "#param_grid = {'C': [0.01, 0.1, 1, 10, 100]}\n",
    "#grid = GridSearchCV(logreg, param_grid, scoring=\"roc_auc\", cv=5)\n",
    "#logreg_train = grid.fit([x_train,y_train.shape[1]])"
   ]
  },
  {
   "cell_type": "code",
   "execution_count": 562,
   "id": "acceptable-martial",
   "metadata": {},
   "outputs": [
    {
     "name": "stdout",
     "output_type": "stream",
     "text": [
      "5\n",
      "30\n"
     ]
    }
   ],
   "source": [
    "print(y_train.shape[1])\n",
    "print(x_train.shape[1])"
   ]
  },
  {
   "cell_type": "code",
   "execution_count": 426,
   "id": "secure-juice",
   "metadata": {},
   "outputs": [
    {
     "name": "stdout",
     "output_type": "stream",
     "text": [
      "4\n"
     ]
    }
   ],
   "source": [
    "from tensorflow.keras.utils import to_categorical\n",
    "#Y_train = to_categorical(y_train)\n",
    "#Y_test = to_categorical(y_test)\n",
    "#Y_train=np.concatenate((y_train[:200],y_train[200:225]),axis=0)\n",
    "Y_train =y_train.reshape(y_train.shape[0],y_train.shape[1], 1)[:,1:]#2020,4,1\n",
    "print(Y_train.shape[1])\n",
    "Y_train = to_categorical(y_train, 10)"
   ]
  },
  {
   "cell_type": "code",
   "execution_count": 636,
   "id": "instructional-discount",
   "metadata": {},
   "outputs": [
    {
     "data": {
      "text/plain": [
       "{1: 'sostok',\n",
       " 2: 'eostok',\n",
       " 3: 'agatha',\n",
       " 4: 'christie',\n",
       " 5: 'edgar',\n",
       " 6: 'allan',\n",
       " 7: 'poe'}"
      ]
     },
     "execution_count": 636,
     "metadata": {},
     "output_type": "execute_result"
    }
   ],
   "source": [
    "y_tokenizer.index_word"
   ]
  },
  {
   "cell_type": "code",
   "execution_count": 349,
   "id": "limiting-standing",
   "metadata": {
    "scrolled": false
   },
   "outputs": [],
   "source": [
    "#x_tokenizer.index_word"
   ]
  },
  {
   "cell_type": "code",
   "execution_count": 350,
   "id": "developmental-assault",
   "metadata": {},
   "outputs": [
    {
     "data": {
      "text/plain": [
       "array({1: 'sostok', 2: 'eostok', 3: 'agatha', 4: 'christie', 5: 'edgar', 6: 'allan', 7: 'poe'},\n",
       "      dtype=object)"
      ]
     },
     "execution_count": 350,
     "metadata": {},
     "output_type": "execute_result"
    }
   ],
   "source": [
    "np.array(y_tokenizer.index_word)"
   ]
  },
  {
   "cell_type": "code",
   "execution_count": 351,
   "id": "satisfactory-banner",
   "metadata": {},
   "outputs": [],
   "source": [
    "#np.array(x_tokenizer.index_word)"
   ]
  },
  {
   "cell_type": "code",
   "execution_count": 728,
   "id": "novel-facial",
   "metadata": {},
   "outputs": [],
   "source": [
    "#build the dictionary \n",
    "reverse_target_word_index=y_tokenizer.index_word\n",
    "reverse_source_word_index=x_tokenizer.index_word\n",
    "target_word_index=y_tokenizer.word_index"
   ]
  },
  {
   "cell_type": "code",
   "execution_count": 729,
   "id": "collaborative-input",
   "metadata": {},
   "outputs": [],
   "source": [
    "# Encode the input sequence to get the feature vector\n",
    "encoder_model = Model(inputs=encoder_inputs,outputs=[encoder_outputs, state_h, state_c])\n",
    "\n",
    " "
   ]
  },
  {
   "cell_type": "code",
   "execution_count": 730,
   "id": "faced-missile",
   "metadata": {},
   "outputs": [],
   "source": [
    "\n",
    "# Decoder setup  maps the vector representation back to  target sequence. VEC2Word\n",
    "# 1. embedding  sequence\n",
    "# 2. decoder_lstm\n",
    "# 3.  attnention_layer\n",
    "# 4. A dense \n",
    "\n",
    "decoder_state_input_h = Input(shape=(latent_dim,))\n",
    "decoder_state_input_c = Input(shape=(latent_dim,))\n",
    "decoder_hidden_state_input = Input(shape=(max_text_len,latent_dim))\n",
    "\n",
    "#   embedding  sequence\n",
    "decoder_emb2= decoder_emb_layer(decoder_inputs) \n",
    "#  set the initial states to the states from the previous time step\n",
    "decoder_outputs_2, state_h2, state_c2 = decoder_lstm(decoder_emb2, initial_state=[decoder_state_input_h, decoder_state_input_c])\n",
    "\n",
    "#  attnention_layer\n",
    "attnention_out_layer, attn_states_inf = attnention_layer([decoder_hidden_state_input, decoder_outputs_2])\n",
    "decoder_out_concat = Concatenate(axis=-1, name='concat')([decoder_outputs_2, attnention_out_layer])\n",
    "\n",
    "# A dense softmax layer to generate prob dist. over the target vocabulary\n",
    "decoder_outputs2 = decoder_denselayer(decoder_out_concat) \n",
    "\n",
    "''''\n",
    "# Concat attention input and decoder LSTM output\n",
    "decoder_concat_input = Concatenate(axis=-1, name='concat_layer')([decoder_outputs, attn_out])\n",
    "\n",
    "#dense layer\n",
    "decoder_denselayer =  TimeDistributed(Dense(y_vocabulary, activation='softmax'))\n",
    "decoder_outputs = decoder_denselayer(decoder_concat_input)\n",
    "'''\n",
    "\n",
    "#build the Final decoder model\n",
    "decoder_model = Model(\n",
    "    [decoder_inputs] + [decoder_hidden_state_input,decoder_state_input_h, decoder_state_input_c],\n",
    "    [decoder_outputs2] + [state_h2, state_c2])"
   ]
  },
  {
   "cell_type": "code",
   "execution_count": 731,
   "id": "current-certificate",
   "metadata": {},
   "outputs": [],
   "source": [
    "def decode_sequence(input_seq):\n",
    "    # Encode the input as state vectors.\n",
    "    e_out, e_h, e_c = encoder_model.predict(input_seq)\n",
    "    \n",
    "    #print(e_out, e_h, e_c)\n",
    "    # Generate empty target sequence of length 1.\n",
    "    target_seq = np.zeros((1,1))\n",
    "    \n",
    "    # Populate the first word of target sequence with the start word.\n",
    "    target_seq[0, 0] = target_word_index['sostok']\n",
    "\n",
    "    stop_condition = False\n",
    "    decoded_sentence = ''\n",
    "    while not stop_condition:\n",
    "      \n",
    "        output_tokens, h, c = decoder_model.predict([target_seq] + [e_out, e_h, e_c])\n",
    "        #print(output_tokens)\n",
    "        # Sample a token\n",
    "        sampled_token_index = np.argmax(output_tokens[0, -1, :])\n",
    "        #print(sampled_token_index)\n",
    "        sampled_token = reverse_target_word_index[sampled_token_index]\n",
    "        \n",
    "        if(sampled_token!='eostok'):\n",
    "            decoded_sentence += ' '+sampled_token\n",
    "\n",
    "        # Exit condition: either hit max length or find stop word.\n",
    "        if (sampled_token == 'eostok'  or len(decoded_sentence.split()) >= (max_Author_len-1)):\n",
    "            stop_condition = True\n",
    "\n",
    "        # Update the target sequence (of length 1).\n",
    "        target_seq = np.zeros((1,1))\n",
    "        target_seq[0, 0] = sampled_token_index\n",
    "\n",
    "        # Update internal states\n",
    "        e_h, e_c = h, c\n",
    "\n",
    "    return decoded_sentence"
   ]
  },
  {
   "cell_type": "code",
   "execution_count": 732,
   "id": "bigger-collector",
   "metadata": {},
   "outputs": [],
   "source": [
    "def seq2Author(input_seq):\n",
    "    newString=''\n",
    "    for i in input_seq:\n",
    "        if((i!=0 and i!=target_word_index['sostok']) and i!=target_word_index['eostok']):\n",
    "            newString=newString+reverse_target_word_index[i]+' '\n",
    "    return newString\n",
    "\n",
    "def seq2text(input_seq):\n",
    "    newString=''\n",
    "    for i in input_seq:\n",
    "        if(i!=0):\n",
    "            newString=newString+reverse_source_word_index[i]+' '\n",
    "    return newString"
   ]
  },
  {
   "cell_type": "code",
   "execution_count": 733,
   "id": "regular-questionnaire",
   "metadata": {},
   "outputs": [],
   "source": [
    "\n",
    "#print(\"Predicted Author:\",decode_sequence(x_train))\n",
    "#print(encoder_model.predict(x_train[:10]))"
   ]
  },
  {
   "cell_type": "code",
   "execution_count": 734,
   "id": "killing-venue",
   "metadata": {},
   "outputs": [
    {
     "data": {
      "text/plain": [
       "<AxesSubplot:>"
      ]
     },
     "execution_count": 734,
     "metadata": {},
     "output_type": "execute_result"
    },
    {
     "data": {
      "image/png": "[encoded data removed]",
      "text/plain": [
       "<Figure size 432x288 with 2 Axes>"
      ]
     },
     "metadata": {
      "needs_background": "light"
     },
     "output_type": "display_data"
    }
   ],
   "source": [
    "''''\n",
    "X_array=[]\n",
    "Y_array=[]\n",
    "for i in range(0,2):\n",
    "    #print(\"Text from novel:\",seq2text(x_train[i]))\n",
    "    #print(\"Original Author:\",seq2summary(y_train[i]))\n",
    "    #print(\"Predicted summary:\",decode_sequence(x_train[i].reshape(1,max_text_len)))\n",
    "    # print(\"Predicted Author:\",decode_sequence(x_train[i].reshape(1,max_text_len)))\n",
    "    \n",
    "    X_array.append(seq2Author(y_train[i]).strip())\n",
    "    Y_array.append(decode_sequence(x_train[i].reshape(1,max_text_len)).strip())\n",
    "    #conf=confusion_matrix(np.argmax(seq2summary(y_train[i]),axis=1), np.argmax(decode_sequence(x_train[i].reshape(1,max_text_len)),axis=1)\n",
    "    \n",
    "\n",
    "    # print(\"Predicted Author:\",decode_sequence(x_train[i].reshape(1,max_text_len)).strip() ==seq2summary(y_train[i]).strip())\n",
    "    #print(\"\\n\")\n",
    "    \n",
    "conf=confusion_matrix(X_array,Y_array)\n",
    "#conf=confusion_matrix(X_array, Y_array)\n",
    "import seaborn as sns\n",
    "sns.heatmap(conf, annot=True, fmt='d', vmax=20)\n",
    "\n"
   ]
  },
  {
   "cell_type": "code",
   "execution_count": 735,
   "id": "immune-rover",
   "metadata": {},
   "outputs": [
    {
     "name": "stdout",
     "output_type": "stream",
     "text": [
      "Accuracy:  0.9767326732673267\n",
      "Precision:  0.9715491773734971\n",
      "Recall:  0.9766329423781347\n",
      "F1:  0.9740174510555719\n"
     ]
    },
    {
     "data": {
      "image/png": "[encoded data removed]",
      "text/plain": [
       "<Figure size 432x288 with 2 Axes>"
      ]
     },
     "metadata": {
      "needs_background": "light"
     },
     "output_type": "display_data"
    }
   ],
   "source": [
    "Y_test=[]\n",
    "Y_array=[]\n",
    "for i in range(0,2020):\n",
    "    Y_test.append(seq2Author(y_train[i]).strip())\n",
    "    Y_array.append(decode_sequence(x_train[i].reshape(1,max_text_len)).strip())\n",
    "    #print(\"Original Author:\",seq2summary(y_train[i]).strip())\n",
    "    #print(\"Predicted  Author:\",decode_sequence(x_train[i].reshape(1,max_text_len)).strip())   \n",
    "    \n",
    "conf=confusion_matrix(Y_test,Y_array)\n",
    "#conf=confusion_matrix(Y_test, Y_array)\n",
    "import seaborn as sns\n",
    "sns.heatmap(conf, annot=True, fmt='d', vmax=20)   \n",
    "\n",
    "preds = (Y_array)  \n",
    "     \n",
    "from sklearn.metrics import accuracy_score, precision_score, recall_score, f1_score\n",
    "print(\"Accuracy: \", accuracy_score(Y_test, preds))\n",
    "print(\"Precision: \", precision_score(Y_test, preds, average='macro'),)\n",
    "print(\"Recall: \", recall_score(Y_test, preds, average='macro'))\n",
    "print(\"F1: \", f1_score(Y_test, preds, average='macro'))"
   ]
  },
  {
   "cell_type": "code",
   "execution_count": 736,
   "id": "discrete-blast",
   "metadata": {},
   "outputs": [
    {
     "name": "stdout",
     "output_type": "stream",
     "text": [
      "True labels count 1973\n",
      "False labels count 47\n",
      "True labels Percent 97.67326732673267 %\n"
     ]
    }
   ],
   "source": [
    "_Correct = 0\n",
    "_InCorrect = 0\n",
    "\n",
    "for i in range(0,2020):\n",
    "    \n",
    "    #print(\"Predicted Author:\",decode_sequence(x_train[i].reshape(1,max_text_len)))\n",
    "    #print(\"Predicted Author:\",decode_sequence(x_train[i].reshape(1,max_text_len)).strip() ==seq2summary(y_train[i]).strip())\n",
    "    \n",
    "    if (decode_sequence(x_train[i].reshape(1,max_text_len)).strip() == seq2Author(y_train[i]).strip()):\n",
    "        _Correct +=1\n",
    "    else:\n",
    "        _InCorrect+=1\n",
    "   # print(\"\\n\")\n",
    "    \n",
    "print(\"True labels count\", _Correct)\n",
    "print(\"False labels count\", _InCorrect)\n",
    "FinalRestults= (_Correct/(_Correct+_InCorrect) ) * 100\n",
    "print(\"True labels Percent\" ,FinalRestults ,\"%\" ) "
   ]
  },
  {
   "cell_type": "code",
   "execution_count": 737,
   "id": "widespread-mother",
   "metadata": {},
   "outputs": [
    {
     "name": "stdout",
     "output_type": "stream",
     "text": [
      "agatha christie \n",
      " agatha christie\n"
     ]
    }
   ],
   "source": [
    "#print(np.array(seq2Author(y_train[10])))\n",
    "\n",
    "#print(np.array(decode_sequence(x_train[10].reshape(1,max_text_len))))"
   ]
  },
  {
   "cell_type": "code",
   "execution_count": 739,
   "id": "successful-jason",
   "metadata": {},
   "outputs": [
    {
     "data": {
      "image/png": "[encoded data removed]",
      "text/plain": [
       "<Figure size 432x288 with 1 Axes>"
      ]
     },
     "metadata": {
      "needs_background": "light"
     },
     "output_type": "display_data"
    }
   ],
   "source": [
    "from matplotlib import pyplot\n",
    "pyplot.plot(history.history['loss'], label='train')\n",
    "pyplot.plot(history.history['val_loss'], label='test')\n",
    "pyplot.legend()\n",
    "pyplot.show()"
   ]
  },
  {
   "cell_type": "code",
   "execution_count": null,
   "id": "starting-median",
   "metadata": {},
   "outputs": [],
   "source": []
  },
  {
   "cell_type": "code",
   "execution_count": 298,
   "id": "romance-bacon",
   "metadata": {},
   "outputs": [
    {
     "data": {
      "text/plain": [
       "' christie'"
      ]
     },
     "execution_count": 298,
     "metadata": {},
     "output_type": "execute_result"
    }
   ],
   "source": [
    "decode_sequence(x_train[i].reshape(1,max_text_len))"
   ]
  },
  {
   "cell_type": "code",
   "execution_count": 440,
   "id": "bridal-block",
   "metadata": {},
   "outputs": [
    {
     "name": "stdout",
     "output_type": "stream",
     "text": [
      "['agatha christie']\n",
      "['edgar allan']\n"
     ]
    }
   ],
   "source": [
    "print([decode_sequence(x_train[i].reshape(1,max_text_len)).strip()])\n",
    "print([seq2Author(y_train[i]).strip()])"
   ]
  },
  {
   "cell_type": "code",
   "execution_count": 301,
   "id": "seasonal-income",
   "metadata": {},
   "outputs": [
    {
     "name": "stdout",
     "output_type": "stream",
     "text": [
      " christie\n"
     ]
    }
   ],
   "source": [
    "print(decode_sequence(x_train[i].reshape(1,max_text_len)))"
   ]
  },
  {
   "cell_type": "code",
   "execution_count": null,
   "id": "anonymous-designation",
   "metadata": {},
   "outputs": [],
   "source": []
  },
  {
   "cell_type": "code",
   "execution_count": 740,
   "id": "split-beaver",
   "metadata": {},
   "outputs": [],
   "source": [
    "from tensorflow.keras.callbacks import TensorBoard\n",
    "tensorboard_callback = TensorBoard(log_dir=\"./logs\", write_graph=True, histogram_freq=1)"
   ]
  },
  {
   "cell_type": "code",
   "execution_count": 57,
   "id": "lucky-mailing",
   "metadata": {},
   "outputs": [
    {
     "data": {
      "image/png": "[encoded data removed]",
      "text/plain": [
       "<Figure size 432x288 with 1 Axes>"
      ]
     },
     "metadata": {
      "needs_background": "light"
     },
     "output_type": "display_data"
    }
   ],
   "source": []
  },
  {
   "cell_type": "code",
   "execution_count": 741,
   "id": "necessary-controversy",
   "metadata": {},
   "outputs": [
    {
     "data": {
      "text/plain": [
       "[0.783057451248169,\n",
       " 0.3304985761642456,\n",
       " 0.23599684238433838,\n",
       " 0.19106750190258026,\n",
       " 0.16380155086517334,\n",
       " 0.18439385294914246,\n",
       " 0.11237748712301254,\n",
       " 0.160569429397583,\n",
       " 0.1521417647600174,\n",
       " 0.16783399879932404,\n",
       " 0.14940151572227478,\n",
       " 0.1533203423023224,\n",
       " 0.1983245462179184,\n",
       " 0.20108072459697723,\n",
       " 0.15392336249351501,\n",
       " 0.19281843304634094,\n",
       " 0.16027213633060455,\n",
       " 0.15339341759681702,\n",
       " 0.220991313457489,\n",
       " 0.18931621313095093,\n",
       " 0.1832718700170517,\n",
       " 0.2240052968263626,\n",
       " 0.19115924835205078,\n",
       " 0.1578979343175888,\n",
       " 0.16669028997421265,\n",
       " 0.16072066128253937,\n",
       " 0.18032501637935638,\n",
       " 0.204184889793396,\n",
       " 0.18026220798492432,\n",
       " 0.1985485851764679,\n",
       " 0.19758561253547668,\n",
       " 0.19412027299404144,\n",
       " 0.2356090247631073,\n",
       " 0.1623358428478241,\n",
       " 0.18219785392284393,\n",
       " 0.23896858096122742,\n",
       " 0.1843087375164032,\n",
       " 0.19623148441314697,\n",
       " 0.4028579592704773,\n",
       " 0.19267110526561737,\n",
       " 0.22925150394439697,\n",
       " 0.2704765200614929,\n",
       " 0.26474326848983765,\n",
       " 0.2517678737640381,\n",
       " 0.3190293312072754,\n",
       " 0.23987653851509094,\n",
       " 0.2673510015010834,\n",
       " 0.2750229239463806,\n",
       " 0.28000494837760925,\n",
       " 0.26484256982803345,\n",
       " 0.28268036246299744,\n",
       " 0.2312529981136322,\n",
       " 0.21880759298801422,\n",
       " 0.241691455245018,\n",
       " 0.25030267238616943,\n",
       " 0.23249754309654236,\n",
       " 0.26463818550109863,\n",
       " 0.24529574811458588,\n",
       " 0.2553088366985321,\n",
       " 0.24621453881263733,\n",
       " 0.26914891600608826,\n",
       " 0.2781386077404022,\n",
       " 0.2431230992078781,\n",
       " 0.2743208706378937,\n",
       " 0.25653567910194397,\n",
       " 0.2765873968601227,\n",
       " 0.24534380435943604,\n",
       " 0.25335943698883057,\n",
       " 0.2447269856929779,\n",
       " 0.2518408000469208,\n",
       " 0.29012352228164673,\n",
       " 0.25005480647087097,\n",
       " 0.2782662510871887,\n",
       " 0.2416997104883194,\n",
       " 0.2513664960861206,\n",
       " 0.30163317918777466,\n",
       " 0.24100103974342346,\n",
       " 0.26177191734313965,\n",
       " 0.24508363008499146,\n",
       " 0.2540639042854309,\n",
       " 0.2741895020008087,\n",
       " 0.2749318480491638,\n",
       " 0.27134841680526733,\n",
       " 0.2899784743785858,\n",
       " 0.2385891079902649,\n",
       " 0.2638249397277832,\n",
       " 0.26554909348487854,\n",
       " 0.26124680042266846,\n",
       " 0.2652011513710022,\n",
       " 0.2682666778564453,\n",
       " 0.2642795145511627,\n",
       " 0.25894272327423096,\n",
       " 0.2759148180484772,\n",
       " 0.2520810663700104,\n",
       " 0.27810657024383545,\n",
       " 0.3138381242752075,\n",
       " 0.3065224289894104,\n",
       " 0.2858896851539612,\n",
       " 0.26009324193000793,\n",
       " 0.2829113006591797,\n",
       " 0.27483853697776794,\n",
       " 0.2800406515598297,\n",
       " 0.2923467755317688,\n",
       " 0.2650110125541687,\n",
       " 0.26158037781715393,\n",
       " 0.28821226954460144,\n",
       " 0.2712230682373047]"
      ]
     },
     "execution_count": 741,
     "metadata": {},
     "output_type": "execute_result"
    }
   ],
   "source": [
    "history.history['val_loss']"
   ]
  },
  {
   "cell_type": "code",
   "execution_count": null,
   "id": "secret-independence",
   "metadata": {},
   "outputs": [],
   "source": []
  }
 ],
 "metadata": {
  "kernelspec": {
   "display_name": "Python [conda env:root] *",
   "language": "python",
   "name": "conda-root-py"
  },
  "language_info": {
   "codemirror_mode": {
    "name": "ipython",
    "version": 3
   },
   "file_extension": ".py",
   "mimetype": "text/x-python",
   "name": "python",
   "nbconvert_exporter": "python",
   "pygments_lexer": "ipython3",
   "version": "3.8.8"
  }
 },
 "nbformat": 4,
 "nbformat_minor": 5
}
