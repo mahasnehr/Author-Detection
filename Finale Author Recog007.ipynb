{
 "cells": [
  {
   "cell_type": "code",
   "execution_count": 1,
   "id": "grave-richardson",
   "metadata": {},
   "outputs": [
    {
     "name": "stderr",
     "output_type": "stream",
     "text": [
      "Using TensorFlow backend.\n"
     ]
    }
   ],
   "source": [
    "import keras\n",
    "from keras_self_attention import SeqSelfAttention"
   ]
  },
  {
   "cell_type": "code",
   "execution_count": 2,
   "id": "wrapped-phoenix",
   "metadata": {},
   "outputs": [],
   "source": [
    "import numpy as np\n",
    "import pandas as pd \n",
    "import re\n",
    "from bs4 import BeautifulSoup\n",
    "from keras.preprocessing.text import Tokenizer \n",
    "from keras.preprocessing.sequence import pad_sequences\n",
    "from nltk.corpus import stopwords\n",
    "from tensorflow.keras.layers import Input, LSTM, Embedding, Dense, Concatenate, TimeDistributed\n",
    "from tensorflow.keras.models import Model\n",
    "from tensorflow.keras.callbacks import EarlyStopping\n",
    "import warnings\n",
    "pd.set_option(\"display.max_colwidth\", 200)"
   ]
  },
  {
   "cell_type": "code",
   "execution_count": 3,
   "id": "successful-rainbow",
   "metadata": {},
   "outputs": [],
   "source": [
    "data=pd.read_csv(\"C:/Users/Ruba/Downloads/Authors/AuthorsMerg01.csv\",nrows=100000)"
   ]
  },
  {
   "cell_type": "code",
   "execution_count": 4,
   "id": "higher-glass",
   "metadata": {},
   "outputs": [],
   "source": [
    "data.drop_duplicates(subset=['Text'],inplace=True)#dropping duplicates\n",
    "data.dropna(axis=0,inplace=True)#dropping na"
   ]
  },
  {
   "cell_type": "code",
   "execution_count": 5,
   "id": "dense-status",
   "metadata": {},
   "outputs": [
    {
     "name": "stdout",
     "output_type": "stream",
     "text": [
      "<class 'pandas.core.frame.DataFrame'>\n",
      "Int64Index: 2283 entries, 0 to 2311\n",
      "Data columns (total 3 columns):\n",
      " #   Column  Non-Null Count  Dtype \n",
      "---  ------  --------------  ----- \n",
      " 0   Id      2283 non-null   int64 \n",
      " 1   Text    2283 non-null   object\n",
      " 2   Author  2283 non-null   object\n",
      "dtypes: int64(1), object(2)\n",
      "memory usage: 71.3+ KB\n"
     ]
    }
   ],
   "source": [
    "data.info()"
   ]
  },
  {
   "cell_type": "code",
   "execution_count": 6,
   "id": "continuous-factor",
   "metadata": {},
   "outputs": [],
   "source": [
    "contraction_mapping = {\"ain't\": \"is not\", \"aren't\": \"are not\",\"can't\": \"cannot\", \"'cause\": \"because\", \"could've\": \"could have\", \"couldn't\": \"could not\",\n",
    "                           \"didn't\": \"did not\",  \"doesn't\": \"does not\", \"don't\": \"do not\", \"hadn't\": \"had not\", \"hasn't\": \"has not\", \"haven't\": \"have not\",\n",
    "                           \"he'd\": \"he would\",\"he'll\": \"he will\", \"he's\": \"he is\", \"how'd\": \"how did\", \"how'd'y\": \"how do you\", \"how'll\": \"how will\", \"how's\": \"how is\",\n",
    "                           \"I'd\": \"I would\", \"I'd've\": \"I would have\", \"I'll\": \"I will\", \"I'll've\": \"I will have\",\"I'm\": \"I am\", \"I've\": \"I have\", \"i'd\": \"i would\",\n",
    "                           \"i'd've\": \"i would have\", \"i'll\": \"i will\",  \"i'll've\": \"i will have\",\"i'm\": \"i am\", \"i've\": \"i have\", \"isn't\": \"is not\", \"it'd\": \"it would\",\n",
    "                           \"it'd've\": \"it would have\", \"it'll\": \"it will\", \"it'll've\": \"it will have\",\"it's\": \"it is\", \"let's\": \"let us\", \"ma'am\": \"madam\",\n",
    "                           \"mayn't\": \"may not\", \"might've\": \"might have\",\"mightn't\": \"might not\",\"mightn't've\": \"might not have\", \"must've\": \"must have\",\n",
    "                           \"mustn't\": \"must not\", \"mustn't've\": \"must not have\", \"needn't\": \"need not\", \"needn't've\": \"need not have\",\"o'clock\": \"of the clock\",\n",
    "                           \"oughtn't\": \"ought not\", \"oughtn't've\": \"ought not have\", \"shan't\": \"shall not\", \"sha'n't\": \"shall not\", \"shan't've\": \"shall not have\",\n",
    "                           \"she'd\": \"she would\", \"she'd've\": \"she would have\", \"she'll\": \"she will\", \"she'll've\": \"she will have\", \"she's\": \"she is\",\n",
    "                           \"should've\": \"should have\", \"shouldn't\": \"should not\", \"shouldn't've\": \"should not have\", \"so've\": \"so have\",\"so's\": \"so as\",\n",
    "                           \"this's\": \"this is\",\"that'd\": \"that would\", \"that'd've\": \"that would have\", \"that's\": \"that is\", \"there'd\": \"there would\",\n",
    "                           \"there'd've\": \"there would have\", \"there's\": \"there is\", \"here's\": \"here is\",\"they'd\": \"they would\", \"they'd've\": \"they would have\",\n",
    "                           \"they'll\": \"they will\", \"they'll've\": \"they will have\", \"they're\": \"they are\", \"they've\": \"they have\", \"to've\": \"to have\",\n",
    "                           \"wasn't\": \"was not\", \"we'd\": \"we would\", \"we'd've\": \"we would have\", \"we'll\": \"we will\", \"we'll've\": \"we will have\", \"we're\": \"we are\",\n",
    "                           \"we've\": \"we have\", \"weren't\": \"were not\", \"what'll\": \"what will\", \"what'll've\": \"what will have\", \"what're\": \"what are\",\n",
    "                           \"what's\": \"what is\", \"what've\": \"what have\", \"when's\": \"when is\", \"when've\": \"when have\", \"where'd\": \"where did\", \"where's\": \"where is\",\n",
    "                           \"where've\": \"where have\", \"who'll\": \"who will\", \"who'll've\": \"who will have\", \"who's\": \"who is\", \"who've\": \"who have\",\n",
    "                           \"why's\": \"why is\", \"why've\": \"why have\", \"will've\": \"will have\", \"won't\": \"will not\", \"won't've\": \"will not have\",\n",
    "                           \"would've\": \"would have\", \"wouldn't\": \"would not\", \"wouldn't've\": \"would not have\", \"y'all\": \"you all\",\n",
    "                           \"y'all'd\": \"you all would\",\"y'all'd've\": \"you all would have\",\"y'all're\": \"you all are\",\"y'all've\": \"you all have\",\n",
    "                           \"you'd\": \"you would\", \"you'd've\": \"you would have\", \"you'll\": \"you will\", \"you'll've\": \"you will have\",\n",
    "                           \"you're\": \"you are\", \"you've\": \"you have\"}"
   ]
  },
  {
   "cell_type": "code",
   "execution_count": 7,
   "id": "conventional-there",
   "metadata": {},
   "outputs": [
    {
     "name": "stderr",
     "output_type": "stream",
     "text": [
      "[nltk_data] Downloading package stopwords to\n",
      "[nltk_data]     C:\\Users\\Ruba\\AppData\\Roaming\\nltk_data...\n",
      "[nltk_data]   Package stopwords is already up-to-date!\n"
     ]
    },
    {
     "data": {
      "text/plain": [
       "True"
      ]
     },
     "execution_count": 7,
     "metadata": {},
     "output_type": "execute_result"
    }
   ],
   "source": [
    "import nltk\n",
    "nltk.download('stopwords')"
   ]
  },
  {
   "cell_type": "code",
   "execution_count": 8,
   "id": "unlikely-short",
   "metadata": {},
   "outputs": [],
   "source": [
    "stop_words = set(stopwords.words('english'))"
   ]
  },
  {
   "cell_type": "code",
   "execution_count": 9,
   "id": "according-cancer",
   "metadata": {},
   "outputs": [],
   "source": [
    "\n",
    "def text_cleaner(text,num):\n",
    "    newString = text.lower()\n",
    "    newString = BeautifulSoup(newString, \"lxml\").text\n",
    "    newString = re.sub(r'\\([^)]*\\)', '', newString)\n",
    "    newString = re.sub('\"','', newString)\n",
    "    newString = ' '.join([contraction_mapping[t] if t in contraction_mapping else t for t in newString.split(\" \")])    \n",
    "    newString = re.sub(r\"'s\\b\",\"\",newString)\n",
    "    newString = re.sub(\"[^a-zA-Z]\", \" \", newString) \n",
    "    newString = re.sub('[m]{2,}', 'mm', newString)\n",
    "    if(num==0):\n",
    "        tokens = [w for w in newString.split() if not w in stop_words]\n",
    "    else:\n",
    "        tokens=newString.split()\n",
    "    long_words=[]\n",
    "    for i in tokens:\n",
    "        if len(i)>1:                                                 #removing short word\n",
    "            long_words.append(i)   \n",
    "    return (\" \".join(long_words)).strip()"
   ]
  },
  {
   "cell_type": "code",
   "execution_count": 10,
   "id": "prescribed-wilson",
   "metadata": {},
   "outputs": [],
   "source": [
    "#call the function\n",
    "cleaned_text = []\n",
    "for t in data['Text']:\n",
    "    cleaned_text.append(text_cleaner(t,0))"
   ]
  },
  {
   "cell_type": "code",
   "execution_count": 11,
   "id": "basic-island",
   "metadata": {},
   "outputs": [
    {
     "data": {
      "text/plain": [
       "['project gutenberg ebook complete poetical works edgar allan poe',\n",
       " 'whatsoever may copy give away use terms',\n",
       " 'ebook use anyone anywhere united states',\n",
       " 'parts world cost almost restrictions',\n",
       " 'whatsoever may copy give away use terms']"
      ]
     },
     "execution_count": 11,
     "metadata": {},
     "output_type": "execute_result"
    }
   ],
   "source": [
    "cleaned_text[:5]"
   ]
  },
  {
   "cell_type": "code",
   "execution_count": 12,
   "id": "loose-korea",
   "metadata": {},
   "outputs": [],
   "source": [
    "#call the function\n",
    "cleaned_summary = []\n",
    "for t in data['Author']:\n",
    "    cleaned_summary.append(text_cleaner(t,1))"
   ]
  },
  {
   "cell_type": "code",
   "execution_count": 13,
   "id": "golden-advertising",
   "metadata": {},
   "outputs": [
    {
     "data": {
      "text/plain": [
       "['edgar allan poe',\n",
       " 'agatha christie',\n",
       " 'edgar allan poe',\n",
       " 'edgar allan poe',\n",
       " 'edgar allan poe',\n",
       " 'edgar allan poe',\n",
       " 'edgar allan poe',\n",
       " 'edgar allan poe',\n",
       " 'edgar allan poe',\n",
       " 'edgar allan poe']"
      ]
     },
     "execution_count": 13,
     "metadata": {},
     "output_type": "execute_result"
    }
   ],
   "source": [
    "cleaned_summary[:10]"
   ]
  },
  {
   "cell_type": "code",
   "execution_count": 14,
   "id": "direct-blast",
   "metadata": {},
   "outputs": [],
   "source": [
    "#restore values of text / summary after cleaning process \n",
    "data['cleaned_text']=cleaned_text\n",
    "data['cleaned_Author']=cleaned_summary"
   ]
  },
  {
   "cell_type": "code",
   "execution_count": 15,
   "id": "saved-whole",
   "metadata": {},
   "outputs": [],
   "source": [
    "#remove empty spaces and NA ones\n",
    "data.replace('', np.nan, inplace=True)\n",
    "data.dropna(axis=0,inplace=True)"
   ]
  },
  {
   "cell_type": "code",
   "execution_count": 16,
   "id": "accredited-technician",
   "metadata": {},
   "outputs": [
    {
     "name": "stderr",
     "output_type": "stream",
     "text": [
      "C:\\Users\\Ruba\\anaconda3\\lib\\site-packages\\pandas\\plotting\\_matplotlib\\tools.py:400: MatplotlibDeprecationWarning: \n",
      "The is_first_col function was deprecated in Matplotlib 3.4 and will be removed two minor releases later. Use ax.get_subplotspec().is_first_col() instead.\n",
      "  if ax.is_first_col():\n"
     ]
    },
    {
     "data": {
      "image/png": "[encoded data removed]",
      "text/plain": [
       "<Figure size 432x288 with 2 Axes>"
      ]
     },
     "metadata": {
      "needs_background": "light"
     },
     "output_type": "display_data"
    }
   ],
   "source": [
    "\n",
    "# find the length of sentences in each TEXT / Summay to know the MIN.MAX ranges length\n",
    "import matplotlib.pyplot as plt\n",
    "\n",
    "text_word_count = []\n",
    "summary_word_count = []\n",
    "\n",
    "# populate the lists with sentence lengths\n",
    "for i in data['cleaned_text']:\n",
    "      text_word_count.append(len(i.split()))\n",
    "\n",
    "for i in data['cleaned_Author']:\n",
    "      summary_word_count.append(len(i.split()))\n",
    "\n",
    "length_df = pd.DataFrame({'text':text_word_count, 'summary':summary_word_count})\n",
    "\n",
    "length_df.hist(bins = 30)\n",
    "plt.show()"
   ]
  },
  {
   "cell_type": "code",
   "execution_count": 17,
   "id": "incomplete-windsor",
   "metadata": {},
   "outputs": [],
   "source": [
    "# limit the length of MAX \n",
    "max_text_len=30\n",
    "max_summary_len=5"
   ]
  },
  {
   "cell_type": "code",
   "execution_count": 18,
   "id": "coral-seven",
   "metadata": {},
   "outputs": [],
   "source": [
    "# remove the shorter ones than the MAX (max_text_len) limite above\n",
    "cleaned_text =np.array(data['cleaned_text'])\n",
    "cleaned_summary=np.array(data['cleaned_Author'])\n",
    "\n",
    "short_text=[]\n",
    "short_summary=[]\n",
    "\n",
    "for i in range(len(cleaned_text)):\n",
    "    if(len(cleaned_summary[i].split())<=max_summary_len and len(cleaned_text[i].split())<=max_text_len):\n",
    "        short_text.append(cleaned_text[i])\n",
    "        short_summary.append(cleaned_summary[i])\n",
    "        \n",
    "df=pd.DataFrame({'text':short_text,'Author':short_summary})"
   ]
  },
  {
   "cell_type": "code",
   "execution_count": 19,
   "id": "bearing-variable",
   "metadata": {},
   "outputs": [],
   "source": [
    "# add START and END special tokens (StartTok EndToken)\n",
    "df['Author'] = df['Author'].apply(lambda x : 'sostok '+ x + ' eostok')"
   ]
  },
  {
   "cell_type": "code",
   "execution_count": 20,
   "id": "superb-contact",
   "metadata": {},
   "outputs": [],
   "source": [
    "# splitting the data 90/10 using train_test_split function \n",
    "\n",
    "import numpy as np\n",
    "from sklearn.model_selection import train_test_split\n",
    "x_train,x_test,y_train,y_test=train_test_split(np.array(df['text']),np.array(df['Author']),test_size=0.1,random_state=0,shuffle=True)"
   ]
  },
  {
   "cell_type": "code",
   "execution_count": 21,
   "id": "macro-activation",
   "metadata": {},
   "outputs": [],
   "source": [
    "#Text Tokenizer \n",
    "\n",
    "from keras.preprocessing.text import Tokenizer \n",
    "from keras.preprocessing.sequence import pad_sequences\n",
    "\n",
    "#prepare a tokenizer for reviews on x_train data\n",
    "x_tokenizer = Tokenizer() \n",
    "x_tokenizer.fit_on_texts(list(x_train))"
   ]
  },
  {
   "cell_type": "code",
   "execution_count": 22,
   "id": "decimal-optimization",
   "metadata": {},
   "outputs": [],
   "source": [
    "\n",
    "# find the least used words by count limit here is 4times\n",
    "threshold=4 \n",
    "\n",
    "count=0\n",
    "tot_count=0\n",
    "freq=0\n",
    "tot_freq=0\n",
    "\n",
    "for key,value in x_tokenizer.word_counts.items():\n",
    "    tot_count=tot_count+1\n",
    "    tot_freq=tot_freq+value\n",
    "    if(value<threshold):\n",
    "        count=count+1\n",
    "        freq=freq+value\n",
    "    \n",
    "#print(\"Number of rare words in vocabulary:\",(count/tot_count))\n",
    "#print(\"Total Coverage of rare words:\",(freq/tot_freq))\n",
    "# we can remove those words that are used less than specific threshold and count them as rare words"
   ]
  },
  {
   "cell_type": "code",
   "execution_count": 23,
   "id": "magnetic-sewing",
   "metadata": {},
   "outputs": [
    {
     "data": {
      "text/plain": [
       "(3073, 3625, 4158, 9321)"
      ]
     },
     "execution_count": 23,
     "metadata": {},
     "output_type": "execute_result"
    }
   ],
   "source": [
    "count,tot_count,freq,tot_freq"
   ]
  },
  {
   "cell_type": "code",
   "execution_count": 24,
   "id": "excellent-uniform",
   "metadata": {},
   "outputs": [],
   "source": [
    "x_tokenizer = Tokenizer(num_words=tot_count-count) "
   ]
  },
  {
   "cell_type": "code",
   "execution_count": 25,
   "id": "animal-florida",
   "metadata": {},
   "outputs": [
    {
     "data": {
      "text/plain": [
       "<keras_preprocessing.text.Tokenizer at 0x1c8f5f30400>"
      ]
     },
     "execution_count": 25,
     "metadata": {},
     "output_type": "execute_result"
    }
   ],
   "source": [
    "x_tokenizer"
   ]
  },
  {
   "cell_type": "code",
   "execution_count": 26,
   "id": "choice-minutes",
   "metadata": {},
   "outputs": [],
   "source": [
    "#prepare a tokenizer for reviews on training data\n",
    "words_count=tot_count-count #6716\n",
    "x_tokenizer = Tokenizer(num_words=6716) \n",
    "x_tokenizer.fit_on_texts(list(x_train))\n",
    "\n",
    "#convert text sequences into integer sequences texts_to_sequences\n",
    "x_train_seq    =   x_tokenizer.texts_to_sequences(x_train) \n",
    "x_test_seq   =   x_tokenizer.texts_to_sequences(x_test)\n",
    "\n",
    "#post padding  zero upto maximum length to unify the sentences lengths   \n",
    "x_train    =   pad_sequences(x_train_seq,  maxlen=max_text_len, padding='post')\n",
    "x_test   =   pad_sequences(x_test_seq, maxlen=max_text_len, padding='post')\n",
    "\n",
    "#size of vocabulary ( +1 for padding token)\n",
    "x_vocabulary   =  x_tokenizer.num_words + 1"
   ]
  },
  {
   "cell_type": "code",
   "execution_count": 27,
   "id": "beginning-subscriber",
   "metadata": {},
   "outputs": [
    {
     "data": {
      "text/plain": [
       "(6717,\n",
       " [[20, 363, 405, 145],\n",
       "  [444, 1709, 235, 3186, 3187, 531],\n",
       "  [434],\n",
       "  [85, 12],\n",
       "  [972, 3343, 2670, 22, 1681],\n",
       "  [597, 164, 211, 15],\n",
       "  [470, 648, 27, 648, 34],\n",
       "  [361, 831, 1025],\n",
       "  [702, 11, 8, 3098, 2807],\n",
       "  [47],\n",
       "  [80, 686, 121, 254, 303],\n",
       "  [20, 61, 1046, 45, 42, 832, 1],\n",
       "  [2151],\n",
       "  [86, 943, 59],\n",
       "  [6, 18, 19, 401, 699, 8, 93],\n",
       "  [60, 75],\n",
       "  [58, 2900, 10, 18, 53, 223],\n",
       "  [81, 983, 22, 400, 51, 83, 414],\n",
       "  [1937, 868, 1132],\n",
       "  [27, 145, 302],\n",
       "  [859, 2289, 222],\n",
       "  [31, 1429, 2853],\n",
       "  [44, 975],\n",
       "  [514, 107, 2673, 1131],\n",
       "  [541],\n",
       "  [181, 284, 164],\n",
       "  [2],\n",
       "  [1359, 93, 8, 151, 154],\n",
       "  [506, 100, 77, 3454, 2896],\n",
       "  [140, 1285],\n",
       "  [54, 264, 36, 515, 169],\n",
       "  [30],\n",
       "  [3420],\n",
       "  [647, 211, 179, 15],\n",
       "  [303, 27, 215, 2230],\n",
       "  [145, 496, 145, 3327],\n",
       "  [388, 22, 1051, 911, 105, 6],\n",
       "  [801, 290, 374, 21],\n",
       "  [3197, 1127, 221, 3],\n",
       "  [117, 192, 3516, 15, 741, 376],\n",
       "  [556, 821, 27, 622],\n",
       "  [2438, 2226],\n",
       "  [43, 341, 412, 175],\n",
       "  [33, 285],\n",
       "  [80, 82, 500],\n",
       "  [1133, 3443, 19],\n",
       "  [830, 1131, 605, 501, 189],\n",
       "  [44, 64, 3376, 26],\n",
       "  [87],\n",
       "  [649, 99, 69, 2066, 117],\n",
       "  [3, 2037],\n",
       "  [561, 804, 2036, 284, 764],\n",
       "  [3300, 793],\n",
       "  [3591, 831, 616],\n",
       "  [1, 956, 260],\n",
       "  [336, 448, 93],\n",
       "  [36, 2693],\n",
       "  [608, 36],\n",
       "  [3591, 301, 1263, 5],\n",
       "  [590],\n",
       "  [2267, 1165, 3348],\n",
       "  [],\n",
       "  [3, 852, 42, 392],\n",
       "  [98, 340, 8, 3540],\n",
       "  [707, 1115, 194, 783],\n",
       "  [27, 84, 873, 404, 1080, 630, 29],\n",
       "  [1290, 132, 647],\n",
       "  [1396],\n",
       "  [63, 160, 173, 42],\n",
       "  [229, 156, 121, 464, 1963, 40],\n",
       "  [33, 46, 673],\n",
       "  [],\n",
       "  [1858, 431],\n",
       "  [347, 1733, 195, 70],\n",
       "  [57, 57],\n",
       "  [180, 107],\n",
       "  [57, 2, 165, 120],\n",
       "  [1, 46, 356],\n",
       "  [1336, 1698, 709],\n",
       "  [589],\n",
       "  [610, 180],\n",
       "  [556, 23, 143, 684, 141, 106],\n",
       "  [1, 187, 418],\n",
       "  [491, 279, 3041],\n",
       "  [97, 2180, 577],\n",
       "  [6, 251, 1874, 34, 36, 120],\n",
       "  [93, 80, 56, 30, 364],\n",
       "  [130, 940, 83, 92, 218, 481],\n",
       "  [445, 53],\n",
       "  [55, 105, 45, 2695, 2652],\n",
       "  [245],\n",
       "  [277, 197, 100],\n",
       "  [259],\n",
       "  [504, 162],\n",
       "  [31],\n",
       "  [2655, 827, 1627],\n",
       "  [50, 373, 30],\n",
       "  [496, 983, 496, 1849, 1850, 641, 3, 1020, 1061],\n",
       "  [130, 750, 110, 1906],\n",
       "  [570, 9, 7, 28, 37],\n",
       "  [443, 174, 33],\n",
       "  [],\n",
       "  [149, 115, 136, 1094, 290],\n",
       "  [496, 244, 1131, 75],\n",
       "  [1, 646, 2300, 89, 1227],\n",
       "  [963, 234, 150, 1309],\n",
       "  [546],\n",
       "  [90, 20, 25, 113, 24, 639],\n",
       "  [170, 352, 170, 352, 693, 170, 35],\n",
       "  [1175, 561, 2022, 2104],\n",
       "  [5, 2, 1149, 539, 398],\n",
       "  [1891, 1892],\n",
       "  [5, 2, 103, 33, 358],\n",
       "  [243],\n",
       "  [1920, 1009, 1681, 87],\n",
       "  [78, 52, 784, 219, 437, 68, 58, 337],\n",
       "  [144, 651, 410, 335, 387],\n",
       "  [1041],\n",
       "  [230, 112, 111, 31],\n",
       "  [295],\n",
       "  [8, 1091],\n",
       "  [154, 3289, 266],\n",
       "  [],\n",
       "  [695, 11, 118],\n",
       "  [493, 72, 238, 8, 79, 116, 8],\n",
       "  [94, 293, 544],\n",
       "  [113, 44, 217],\n",
       "  [534, 947, 338, 895, 1314],\n",
       "  [1031, 71],\n",
       "  [5, 2, 229],\n",
       "  [783, 236],\n",
       "  [2939, 361, 2810, 361],\n",
       "  [638],\n",
       "  [10, 32, 55, 18],\n",
       "  [222],\n",
       "  [200, 27, 308, 377, 393, 1284, 39],\n",
       "  [4, 82, 371, 3424],\n",
       "  [6, 2561, 3171],\n",
       "  [462, 589],\n",
       "  [982, 66, 757, 2027],\n",
       "  [33, 607, 260, 74, 138, 164],\n",
       "  [1, 1223, 773],\n",
       "  [159, 336, 530, 2412, 226],\n",
       "  [559],\n",
       "  [903, 98, 3487, 4],\n",
       "  [31, 1890, 84, 142],\n",
       "  [2267, 272, 1383, 1500, 27, 25],\n",
       "  [1340],\n",
       "  [16, 197, 300, 1726, 172],\n",
       "  [147, 2055, 469, 13],\n",
       "  [],\n",
       "  [295, 387, 343, 1051, 1025],\n",
       "  [2004, 218],\n",
       "  [361, 1133, 361, 335, 96],\n",
       "  [200, 492],\n",
       "  [1985, 356],\n",
       "  [64, 277, 597, 601, 372, 1996],\n",
       "  [1792, 1793],\n",
       "  [993],\n",
       "  [4, 648, 237, 307, 2406],\n",
       "  [1890, 1031, 112, 46],\n",
       "  [],\n",
       "  [38, 257, 296, 120, 656, 229],\n",
       "  [256, 1011, 26, 805, 152, 127],\n",
       "  [8, 1699, 2843, 167, 599],\n",
       "  [126, 5, 2, 709, 91],\n",
       "  [711, 3282, 154],\n",
       "  [720, 13],\n",
       "  [465, 128],\n",
       "  [13, 743, 257, 1240, 206, 699],\n",
       "  [2877, 1999],\n",
       "  [1814, 58, 1, 2841],\n",
       "  [26, 160],\n",
       "  [3300, 793],\n",
       "  [346, 3604, 664],\n",
       "  [2466, 732, 229, 934, 26, 2513],\n",
       "  [1445, 97],\n",
       "  [708, 1985, 93, 1, 148],\n",
       "  [1704, 1168, 992],\n",
       "  [4, 360, 640],\n",
       "  [221, 1440, 167, 527, 3228, 1188],\n",
       "  [21, 1191],\n",
       "  [463, 148, 1196],\n",
       "  [86, 3579, 12, 75],\n",
       "  [2016, 1048, 437, 2909],\n",
       "  [388, 63, 12],\n",
       "  [789, 649],\n",
       "  [3232, 215, 690],\n",
       "  [2446, 2846, 522, 9],\n",
       "  [590, 424, 140],\n",
       "  [361],\n",
       "  [3459, 476, 844],\n",
       "  [27],\n",
       "  [2036, 3151, 1, 1159, 267],\n",
       "  [556, 9, 7, 28, 95, 23],\n",
       "  [3186, 1241, 402],\n",
       "  [3375, 407, 531, 392],\n",
       "  [621, 560, 433],\n",
       "  [350, 8, 296, 118, 63, 17, 64],\n",
       "  [269, 1551, 35, 1171],\n",
       "  [128, 69, 171, 44],\n",
       "  [645],\n",
       "  [5, 620],\n",
       "  [1404],\n",
       "  [325, 1222, 165, 11, 98],\n",
       "  [1, 199, 3591],\n",
       "  [45, 72, 129, 2916, 3416],\n",
       "  [399, 3275],\n",
       "  [237, 1220],\n",
       "  [3237, 3237, 270, 11],\n",
       "  [69],\n",
       "  [150, 271, 561, 2663, 596, 3395],\n",
       "  [78, 5, 18, 131, 49],\n",
       "  [1205],\n",
       "  [1],\n",
       "  [16, 113, 126, 2973],\n",
       "  [757, 212, 2027],\n",
       "  [2159, 2160, 202, 116, 60, 131],\n",
       "  [828, 1857],\n",
       "  [8, 650],\n",
       "  [2626, 5, 2, 43, 82, 1616],\n",
       "  [115],\n",
       "  [8, 63, 12, 19],\n",
       "  [112],\n",
       "  [103, 2961, 1639]])"
      ]
     },
     "execution_count": 27,
     "metadata": {},
     "output_type": "execute_result"
    }
   ],
   "source": [
    "x_vocabulary,x_test_seq"
   ]
  },
  {
   "cell_type": "code",
   "execution_count": 28,
   "id": "czech-label",
   "metadata": {},
   "outputs": [],
   "source": [
    "#prepare a tokenizer for novels text on training data\n",
    "#prepare a tokenizer for text by authose on training data\n",
    "#prepare a tokenizer for reviews on training data\n",
    "y_tokenizer = Tokenizer()   \n",
    "y_tokenizer.fit_on_texts(list(y_train))"
   ]
  },
  {
   "cell_type": "code",
   "execution_count": 29,
   "id": "chubby-interim",
   "metadata": {},
   "outputs": [
    {
     "name": "stdout",
     "output_type": "stream",
     "text": [
      "number of rare words in vocabulary: 0.0\n",
      "Total Coverage of rare words: 0.0\n"
     ]
    }
   ],
   "source": [
    "\n",
    "# find the least used words by count limit here is 6times for Y\n",
    "\n",
    "threshold=6\n",
    "\n",
    "count=0\n",
    "tot_count=0\n",
    "freq=0\n",
    "tot_freq=0\n",
    "\n",
    "for key,value in y_tokenizer.word_counts.items():\n",
    "    tot_count=tot_count+1\n",
    "    tot_freq=tot_freq+value\n",
    "    if(value<threshold):\n",
    "        count=count+1\n",
    "        freq=freq+value\n",
    "    \n",
    "print(\"number of rare words in vocabulary:\",(count/tot_count))\n",
    "print(\"Total Coverage of rare words:\",(freq/tot_freq))\n",
    "# we can remove those words that are used less than specific threshold and count them as rare words"
   ]
  },
  {
   "cell_type": "code",
   "execution_count": 30,
   "id": "collectible-effectiveness",
   "metadata": {},
   "outputs": [
    {
     "name": "stdout",
     "output_type": "stream",
     "text": [
      "7\n"
     ]
    }
   ],
   "source": [
    "words_count=tot_count-count\n",
    "print(words_count)\n",
    "# we can remove those words that are used less than specific threshold and count them as rare words"
   ]
  },
  {
   "cell_type": "code",
   "execution_count": 31,
   "id": "statewide-candy",
   "metadata": {},
   "outputs": [],
   "source": [
    "\n",
    "words_count=tot_count-count\n",
    "y_tokenizer = Tokenizer(num_words=words_count) \n",
    "y_tokenizer.fit_on_texts(list(y_train))\n",
    "\n",
    "#convert text sequences into integer sequences using texts_to_sequences\n",
    "y_train_seq    =   y_tokenizer.texts_to_sequences(y_train) \n",
    "y_test_seq   =   y_tokenizer.texts_to_sequences(y_test) \n",
    "\n",
    "#padding zero upto maximum length\n",
    "y_train    =   pad_sequences(y_train_seq, maxlen=max_summary_len, padding='post')\n",
    "y_test   =   pad_sequences(y_test_seq, maxlen=max_summary_len, padding='post')\n",
    "\n",
    "#size of vocabulary\n",
    "y_vocabulary  =   y_tokenizer.num_words +1"
   ]
  },
  {
   "cell_type": "code",
   "execution_count": 32,
   "id": "macro-steal",
   "metadata": {},
   "outputs": [
    {
     "data": {
      "text/plain": [
       "(2020, 2020)"
      ]
     },
     "execution_count": 32,
     "metadata": {},
     "output_type": "execute_result"
    }
   ],
   "source": [
    "# check the length of both train and Y before and after tokanizing\n",
    "y_tokenizer.word_counts['sostok'],len(y_train)"
   ]
  },
  {
   "cell_type": "code",
   "execution_count": 33,
   "id": "eleven-spray",
   "metadata": {},
   "outputs": [],
   "source": [
    "from keras import backend as K\n",
    "from tensorflow.python.framework import ops\n",
    "ops.reset_default_graph()"
   ]
  },
  {
   "cell_type": "code",
   "execution_count": 34,
   "id": "fabulous-october",
   "metadata": {},
   "outputs": [],
   "source": [
    "import tensorflow as tf "
   ]
  },
  {
   "cell_type": "code",
   "execution_count": 35,
   "id": "aggressive-wholesale",
   "metadata": {},
   "outputs": [],
   "source": [
    "from keras import backend as K   \n",
    "latent_dim = 300\n",
    "embedding_dim=100\n",
    " "
   ]
  },
  {
   "cell_type": "code",
   "execution_count": 36,
   "id": "dominican-forge",
   "metadata": {},
   "outputs": [],
   "source": [
    "from tensorflow.keras.layers import Attention\n",
    "from attention import AttentionLayer\n",
    " "
   ]
  },
  {
   "cell_type": "code",
   "execution_count": 37,
   "id": "muslim-tender",
   "metadata": {},
   "outputs": [
    {
     "data": {
      "image/png": "[encoded data removed]",
      "text/plain": [
       "<IPython.core.display.Image object>"
      ]
     },
     "execution_count": 37,
     "metadata": {
      "image/png": {
       "height": 500,
       "width": 500
      }
     },
     "output_type": "execute_result"
    }
   ],
   "source": [
    "from IPython import display\n",
    "from IPython.display import Image\n",
    "PATH = \"C:/Users/Ruba/Desktop/Author Detection/\"\n",
    "Image(filename = PATH + \"2RecursivemodelRNN.png\", width=500, height=500)"
   ]
  },
  {
   "cell_type": "code",
   "execution_count": 38,
   "id": "spare-worship",
   "metadata": {},
   "outputs": [],
   "source": [
    "\n",
    "##Build Recursive Model :: decoder is given an opportunity to use the previously generated words and the source document\n",
    "# Encoder encodes it into an internal representation, often a fixed-length vector called the context vector.\n",
    "encoder_inputs = Input(shape=(max_text_len,))\n",
    "\n",
    "#embedding layer\n",
    "encoder_emb =  Embedding(x_vocabulary, embedding_dim,trainable=True)(encoder_inputs)\n",
    "\n",
    "#encoder lstm 1 ,latent_dim = 300\n",
    "encoder_lstm1 = LSTM(latent_dim,return_sequences=True,return_state=True,dropout=0.4,recurrent_dropout=0.4)\n",
    "encoder_outputs, state_h, state_c = encoder_lstm1(encoder_emb)\n"
   ]
  },
  {
   "cell_type": "code",
   "execution_count": 39,
   "id": "round-announcement",
   "metadata": {},
   "outputs": [],
   "source": [
    "# I tried adding many LSTM but the accuracy wasn't enhanced to I decided to onle keep one layer"
   ]
  },
  {
   "cell_type": "code",
   "execution_count": 40,
   "id": "charitable-taste",
   "metadata": {},
   "outputs": [],
   "source": [
    "\n",
    "#encoder lstm 2\n",
    "#encoder_lstm2 = LSTM(latent_dim,return_sequences=True,return_state=True,dropout=0.4,recurrent_dropout=0.4)\n",
    "#encoder_outputs, state_h, state_c = encoder_lstm2(encoder_output1)\n",
    "\n",
    "#encoder lstm 3\n",
    "#encoder_lstm3=LSTM(latent_dim, return_state=True, return_sequences=True,dropout=0.4,recurrent_dropout=0.4)\n",
    "#encoder_outputs, state_h, state_c= encoder_lstm3(encoder_output2)\n",
    "\n",
    "# Set up the decoder, using `encoder_states` as initial state.\n",
    "\n"
   ]
  },
  {
   "cell_type": "code",
   "execution_count": 41,
   "id": "sonic-force",
   "metadata": {},
   "outputs": [],
   "source": [
    "\n",
    "#encoder lstm 2\n",
    "#encoder_lstm2 = LSTM(latent_dim,return_sequences=True,return_state=True,dropout=0.4,recurrent_dropout=0.4)\n",
    "#encoder_outputs, state_h, state_c = encoder_lstm2(encoder_output1)\n",
    "\n",
    "#encoder lstm 3\n",
    "#encoder_lstm3=LSTM(latent_dim, return_state=True, return_sequences=True,dropout=0.4,recurrent_dropout=0.4)\n",
    "#encoder_outputs, state_h, state_c= encoder_lstm3(encoder_output2)\n",
    "\n",
    "#decoder_inputs = Input(shape=(None,))\n",
    "\n"
   ]
  },
  {
   "cell_type": "code",
   "execution_count": 42,
   "id": "cellular-motorcycle",
   "metadata": {},
   "outputs": [],
   "source": [
    "decoder_inputs = Input(shape=(None,))\n",
    "#embedding layer\n",
    "decoder_emb_layer = Embedding(y_vocabulary, embedding_dim,trainable=True)\n",
    "decoder_emb = decoder_emb_layer(decoder_inputs)\n",
    "\n",
    "decoder_lstm = LSTM(latent_dim, return_sequences=True, return_state=True,dropout=0.4,recurrent_dropout=0.2)\n",
    "decoder_outputs,decoder_fwd_state, decoder_back_state = decoder_lstm(decoder_emb,initial_state=[state_h, state_c])\n",
    "\n"
   ]
  },
  {
   "cell_type": "code",
   "execution_count": 43,
   "id": "plain-beatles",
   "metadata": {},
   "outputs": [],
   "source": [
    "# Attention layer class was added manually  \n",
    "attnention_layer = AttentionLayer(name='attention_layer')\n",
    "\n"
   ]
  },
  {
   "cell_type": "code",
   "execution_count": 44,
   "id": "sustainable-institute",
   "metadata": {},
   "outputs": [
    {
     "data": {
      "text/plain": [
       "TensorShape([None, 30, 300])"
      ]
     },
     "execution_count": 44,
     "metadata": {},
     "output_type": "execute_result"
    }
   ],
   "source": [
    "encoder_outputs.shape"
   ]
  },
  {
   "cell_type": "code",
   "execution_count": 45,
   "id": "departmental-joining",
   "metadata": {},
   "outputs": [
    {
     "data": {
      "text/plain": [
       "TensorShape([None, None, 300])"
      ]
     },
     "execution_count": 45,
     "metadata": {},
     "output_type": "execute_result"
    }
   ],
   "source": [
    "decoder_outputs.shape"
   ]
  },
  {
   "cell_type": "code",
   "execution_count": 46,
   "id": "moving-coverage",
   "metadata": {},
   "outputs": [],
   "source": [
    "attnention_out, attnention_states = attnention_layer([encoder_outputs, decoder_outputs])\n"
   ]
  },
  {
   "cell_type": "code",
   "execution_count": 47,
   "id": "southwest-stretch",
   "metadata": {},
   "outputs": [],
   "source": [
    "# Concat attention input and decoder LSTM output\n",
    "decoder_concat_input = Concatenate(axis=-1, name='concat_layer')([decoder_outputs, attnention_out])"
   ]
  },
  {
   "cell_type": "code",
   "execution_count": 48,
   "id": "altered-state",
   "metadata": {},
   "outputs": [
    {
     "name": "stdout",
     "output_type": "stream",
     "text": [
      "Model: \"model\"\n",
      "__________________________________________________________________________________________________\n",
      "Layer (type)                    Output Shape         Param #     Connected to                     \n",
      "==================================================================================================\n",
      "input_1 (InputLayer)            [(None, 30)]         0                                            \n",
      "__________________________________________________________________________________________________\n",
      "input_2 (InputLayer)            [(None, None)]       0                                            \n",
      "__________________________________________________________________________________________________\n",
      "embedding (Embedding)           (None, 30, 100)      671700      input_1[0][0]                    \n",
      "__________________________________________________________________________________________________\n",
      "embedding_1 (Embedding)         (None, None, 100)    800         input_2[0][0]                    \n",
      "__________________________________________________________________________________________________\n",
      "lstm (LSTM)                     [(None, 30, 300), (N 481200      embedding[0][0]                  \n",
      "__________________________________________________________________________________________________\n",
      "lstm_1 (LSTM)                   [(None, None, 300),  481200      embedding_1[0][0]                \n",
      "                                                                 lstm[0][1]                       \n",
      "                                                                 lstm[0][2]                       \n",
      "__________________________________________________________________________________________________\n",
      "attention_layer (AttentionLayer ((None, None, 300),  180300      lstm[0][0]                       \n",
      "                                                                 lstm_1[0][0]                     \n",
      "__________________________________________________________________________________________________\n",
      "concat_layer (Concatenate)      (None, None, 600)    0           lstm_1[0][0]                     \n",
      "                                                                 attention_layer[0][0]            \n",
      "__________________________________________________________________________________________________\n",
      "time_distributed (TimeDistribut (None, None, 8)      4808        concat_layer[0][0]               \n",
      "==================================================================================================\n",
      "Total params: 1,820,008\n",
      "Trainable params: 1,820,008\n",
      "Non-trainable params: 0\n",
      "__________________________________________________________________________________________________\n"
     ]
    }
   ],
   "source": [
    "\n",
    "#dense layer\n",
    "decoder_denselayer =  TimeDistributed(Dense(y_vocabulary, activation='softmax'))\n",
    "# The TimeDistributed wrapper allows the same output layer to be reused for each element in the output sequence.\n",
    "decoder_outputs = decoder_denselayer(decoder_concat_input)\n",
    "\n",
    "# Define the model \n",
    "model = Model([encoder_inputs, decoder_inputs], decoder_outputs)\n",
    "\n",
    "model.summary()"
   ]
  },
  {
   "cell_type": "code",
   "execution_count": 49,
   "id": "disturbed-virgin",
   "metadata": {},
   "outputs": [
    {
     "data": {
      "text/plain": [
       "tensorflow.python.keras.layers.dense_attention.Attention"
      ]
     },
     "execution_count": 49,
     "metadata": {},
     "output_type": "execute_result"
    }
   ],
   "source": [
    "tf.keras.layers.Attention"
   ]
  },
  {
   "cell_type": "code",
   "execution_count": 50,
   "id": "chemical-commissioner",
   "metadata": {},
   "outputs": [],
   "source": [
    "model.compile(optimizer='adam', loss='sparse_categorical_crossentropy')"
   ]
  },
  {
   "cell_type": "code",
   "execution_count": 51,
   "id": "grave-consumption",
   "metadata": {},
   "outputs": [],
   "source": [
    "#es = EarlyStopping(monitor='val_loss', mode='min', verbose=1,patience=2)\n",
    "es = EarlyStopping(patience=100, monitor='val_loss', restore_best_weights=True) #accuracy, loss, val_loss, val_accuracy"
   ]
  },
  {
   "cell_type": "code",
   "execution_count": 52,
   "id": "forbidden-drawing",
   "metadata": {},
   "outputs": [
    {
     "name": "stdout",
     "output_type": "stream",
     "text": [
      "Epoch 1/3\n",
      "16/16 [==============================] - 12s 392ms/step - loss: 1.8039 - val_loss: 0.8484\n",
      "Epoch 2/3\n",
      "16/16 [==============================] - 5s 306ms/step - loss: 0.6198 - val_loss: 0.3337\n",
      "Epoch 3/3\n",
      "16/16 [==============================] - 5s 292ms/step - loss: 0.2940 - val_loss: 0.2272\n"
     ]
    }
   ],
   "source": [
    "history=model.fit([x_train,y_train[:,:-1]], y_train.reshape(y_train.shape[0],y_train.shape[1], 1)[:,1:] ,\n",
    "                  epochs=3,callbacks=[es],batch_size=128, \n",
    "                  validation_data=([x_test,y_test[:,:-1]], y_test.reshape(y_test.shape[0],y_test.shape[1], 1)[:,1:]))"
   ]
  },
  {
   "cell_type": "code",
   "execution_count": 53,
   "id": "instructional-discount",
   "metadata": {},
   "outputs": [
    {
     "data": {
      "text/plain": [
       "{1: 'sostok',\n",
       " 2: 'eostok',\n",
       " 3: 'agatha',\n",
       " 4: 'christie',\n",
       " 5: 'edgar',\n",
       " 6: 'allan',\n",
       " 7: 'poe'}"
      ]
     },
     "execution_count": 53,
     "metadata": {},
     "output_type": "execute_result"
    }
   ],
   "source": [
    "y_tokenizer.index_word"
   ]
  },
  {
   "cell_type": "code",
   "execution_count": 54,
   "id": "limiting-standing",
   "metadata": {
    "scrolled": false
   },
   "outputs": [],
   "source": [
    "#x_tokenizer.index_word"
   ]
  },
  {
   "cell_type": "code",
   "execution_count": 55,
   "id": "developmental-assault",
   "metadata": {},
   "outputs": [
    {
     "data": {
      "text/plain": [
       "array({1: 'sostok', 2: 'eostok', 3: 'agatha', 4: 'christie', 5: 'edgar', 6: 'allan', 7: 'poe'},\n",
       "      dtype=object)"
      ]
     },
     "execution_count": 55,
     "metadata": {},
     "output_type": "execute_result"
    }
   ],
   "source": [
    "np.array(y_tokenizer.index_word)"
   ]
  },
  {
   "cell_type": "code",
   "execution_count": 56,
   "id": "satisfactory-banner",
   "metadata": {},
   "outputs": [],
   "source": [
    "#np.array(x_tokenizer.index_word)"
   ]
  },
  {
   "cell_type": "code",
   "execution_count": 57,
   "id": "novel-facial",
   "metadata": {},
   "outputs": [],
   "source": [
    "#build the dictionary \n",
    "reverse_target_word_index=y_tokenizer.index_word\n",
    "reverse_source_word_index=x_tokenizer.index_word\n",
    "target_word_index=y_tokenizer.word_index"
   ]
  },
  {
   "cell_type": "code",
   "execution_count": 58,
   "id": "collaborative-input",
   "metadata": {},
   "outputs": [],
   "source": [
    "# Encode the input sequence to get the feature vector\n",
    "encoder_model = Model(inputs=encoder_inputs,outputs=[encoder_outputs, state_h, state_c])\n",
    "\n",
    " "
   ]
  },
  {
   "cell_type": "code",
   "execution_count": 59,
   "id": "faced-missile",
   "metadata": {},
   "outputs": [],
   "source": [
    "\n",
    "# Decoder setup  maps the vector representation back to  target sequence.\n",
    "# 1. embedding  sequence\n",
    "# 2. decoder_lstm\n",
    "# 3.  attnention_layer\n",
    "# 4. A dense \n",
    "\n",
    "decoder_state_input_h = Input(shape=(latent_dim,))\n",
    "decoder_state_input_c = Input(shape=(latent_dim,))\n",
    "decoder_hidden_state_input = Input(shape=(max_text_len,latent_dim))\n",
    "\n",
    "#   embedding  sequence\n",
    "decoder_emb2= decoder_emb_layer(decoder_inputs) \n",
    "#  set the initial states to the states from the previous time step\n",
    "decoder_outputs_2, state_h2, state_c2 = decoder_lstm(decoder_emb2, initial_state=[decoder_state_input_h, decoder_state_input_c])\n",
    "\n",
    "#  attnention_layer\n",
    "attnention_out_layer, attn_states_inf = attnention_layer([decoder_hidden_state_input, decoder_outputs_2])\n",
    "decoder_out_concat = Concatenate(axis=-1, name='concat')([decoder_outputs_2, attnention_out_layer])\n",
    "\n",
    "# A dense softmax layer to generate prob dist. over the target vocabulary\n",
    "decoder_outputs2 = decoder_denselayer(decoder_out_concat) \n",
    "\n",
    "''''\n",
    "# Concat attention input and decoder LSTM output\n",
    "decoder_concat_input = Concatenate(axis=-1, name='concat_layer')([decoder_outputs, attn_out])\n",
    "\n",
    "#dense layer\n",
    "decoder_denselayer =  TimeDistributed(Dense(y_vocabulary, activation='softmax'))\n",
    "decoder_outputs = decoder_denselayer(decoder_concat_input)\n",
    "'''\n",
    "\n",
    "#build the Final decoder model\n",
    "decoder_model = Model(\n",
    "    [decoder_inputs] + [decoder_hidden_state_input,decoder_state_input_h, decoder_state_input_c],\n",
    "    [decoder_outputs2] + [state_h2, state_c2])"
   ]
  },
  {
   "cell_type": "code",
   "execution_count": 60,
   "id": "current-certificate",
   "metadata": {},
   "outputs": [],
   "source": [
    "def decode_sequence(input_seq):\n",
    "    # Encode the input as state vectors.\n",
    "    e_out, e_h, e_c = encoder_model.predict(input_seq)\n",
    "    \n",
    "    #print(e_out, e_h, e_c)\n",
    "    # Generate empty target sequence of length 1.\n",
    "    target_seq = np.zeros((1,1))\n",
    "    \n",
    "    # Populate the first word of target sequence with the start word.\n",
    "    target_seq[0, 0] = target_word_index['sostok']\n",
    "\n",
    "    stop_condition = False\n",
    "    decoded_sentence = ''\n",
    "    while not stop_condition:\n",
    "      \n",
    "        output_tokens, h, c = decoder_model.predict([target_seq] + [e_out, e_h, e_c])\n",
    "        #print(output_tokens)\n",
    "        # Sample a token\n",
    "        sampled_token_index = np.argmax(output_tokens[0, -1, :])\n",
    "        #print(sampled_token_index)\n",
    "        sampled_token = reverse_target_word_index[sampled_token_index]\n",
    "        \n",
    "        if(sampled_token!='eostok'):\n",
    "            decoded_sentence += ' '+sampled_token\n",
    "\n",
    "        # Exit condition: either hit max length or find stop word.\n",
    "        if (sampled_token == 'eostok'  or len(decoded_sentence.split()) >= (max_summary_len-1)):\n",
    "            stop_condition = True\n",
    "\n",
    "        # Update the target sequence (of length 1).\n",
    "        target_seq = np.zeros((1,1))\n",
    "        target_seq[0, 0] = sampled_token_index\n",
    "\n",
    "        # Update internal states\n",
    "        e_h, e_c = h, c\n",
    "\n",
    "    return decoded_sentence"
   ]
  },
  {
   "cell_type": "code",
   "execution_count": 61,
   "id": "bigger-collector",
   "metadata": {},
   "outputs": [],
   "source": [
    "def seq2summary(input_seq):\n",
    "    newString=''\n",
    "    for i in input_seq:\n",
    "        if((i!=0 and i!=target_word_index['sostok']) and i!=target_word_index['eostok']):\n",
    "            newString=newString+reverse_target_word_index[i]+' '\n",
    "    return newString\n",
    "\n",
    "def seq2text(input_seq):\n",
    "    newString=''\n",
    "    for i in input_seq:\n",
    "        if(i!=0):\n",
    "            newString=newString+reverse_source_word_index[i]+' '\n",
    "    return newString"
   ]
  },
  {
   "cell_type": "code",
   "execution_count": 62,
   "id": "immune-rover",
   "metadata": {},
   "outputs": [
    {
     "name": "stdout",
     "output_type": "stream",
     "text": [
      "Text from novel: significant tremendous \n",
      "Original Author: agatha christie \n",
      "Predicted Author:  agatha christie\n",
      "\n",
      "\n",
      "Text from novel: justified magnificent chance tell monday tuesday \n",
      "Original Author: agatha christie \n",
      "Predicted Author:  agatha christie\n",
      "\n",
      "\n",
      "Text from novel: mean nature mary cavendish seemed see \n",
      "Original Author: agatha christie \n",
      "Predicted Author:  agatha christie\n",
      "\n",
      "\n",
      "Text from novel: explained quite naturally \n",
      "Original Author: agatha christie \n",
      "Predicted Author:  agatha christie\n",
      "\n",
      "\n",
      "Text from novel: mean said unsteady voice \n",
      "Original Author: agatha christie \n",
      "Predicted Author:  agatha christie\n",
      "\n",
      "\n"
     ]
    }
   ],
   "source": [
    "for i in range(0,5):\n",
    "    print(\"Text from novel:\",seq2text(x_train[i]))\n",
    "    print(\"Original Author:\",seq2summary(y_train[i]))\n",
    "    #print(\"Predicted summary:\",decode_sequence(x_train[i].reshape(1,max_text_len)))\n",
    "    print(\"Predicted Author:\",decode_sequence(x_train[i].reshape(1,max_text_len)))\n",
    "   # print(\"Predicted Author:\",decode_sequence(x_train[i].reshape(1,max_text_len)).strip() ==seq2summary(y_train[i]).strip())\n",
    "    print(\"\\n\")"
   ]
  },
  {
   "cell_type": "code",
   "execution_count": 63,
   "id": "discrete-blast",
   "metadata": {},
   "outputs": [
    {
     "name": "stdout",
     "output_type": "stream",
     "text": [
      "True labels count 31\n",
      "False labels count 19\n",
      "True labels Percent 62.0 %\n"
     ]
    }
   ],
   "source": [
    "_Correct = 0\n",
    "_InCorrect = 0\n",
    "\n",
    "for i in range(0,50):\n",
    "    \n",
    "    #print(\"Predicted Author:\",decode_sequence(x_train[i].reshape(1,max_text_len)))\n",
    "    #print(\"Predicted Author:\",decode_sequence(x_train[i].reshape(1,max_text_len)).strip() ==seq2summary(y_train[i]).strip())\n",
    "    \n",
    "    if (decode_sequence(x_train[i].reshape(1,max_text_len)).strip() == seq2summary(y_train[i]).strip()):\n",
    "        _Correct +=1\n",
    "    else:\n",
    "        _InCorrect+=1\n",
    "   # print(\"\\n\")\n",
    "    \n",
    "print(\"True labels count\", _Correct)\n",
    "print(\"False labels count\", _InCorrect)\n",
    "FinalRestults= (_Correct/(_Correct+_InCorrect) ) * 100\n",
    "print(\"True labels Percent\" ,FinalRestults ,\"%\" ) "
   ]
  },
  {
   "cell_type": "code",
   "execution_count": 64,
   "id": "successful-jason",
   "metadata": {},
   "outputs": [
    {
     "data": {
      "image/png": "[encoded data removed]",
      "text/plain": [
       "<Figure size 432x288 with 1 Axes>"
      ]
     },
     "metadata": {
      "needs_background": "light"
     },
     "output_type": "display_data"
    }
   ],
   "source": [
    "from matplotlib import pyplot\n",
    "pyplot.plot(history.history['loss'], label='train')\n",
    "pyplot.plot(history.history['val_loss'], label='test')\n",
    "pyplot.legend()\n",
    "pyplot.show()"
   ]
  },
  {
   "cell_type": "code",
   "execution_count": null,
   "id": "exposed-worth",
   "metadata": {},
   "outputs": [],
   "source": []
  },
  {
   "cell_type": "code",
   "execution_count": null,
   "id": "polyphonic-participant",
   "metadata": {},
   "outputs": [],
   "source": []
  },
  {
   "cell_type": "code",
   "execution_count": null,
   "id": "saved-cedar",
   "metadata": {},
   "outputs": [],
   "source": []
  },
  {
   "cell_type": "code",
   "execution_count": null,
   "id": "combined-childhood",
   "metadata": {},
   "outputs": [],
   "source": []
  },
  {
   "cell_type": "code",
   "execution_count": null,
   "id": "honey-shanghai",
   "metadata": {},
   "outputs": [],
   "source": []
  },
  {
   "cell_type": "code",
   "execution_count": null,
   "id": "desirable-interpretation",
   "metadata": {},
   "outputs": [],
   "source": []
  },
  {
   "cell_type": "code",
   "execution_count": null,
   "id": "detected-speaker",
   "metadata": {},
   "outputs": [],
   "source": []
  },
  {
   "cell_type": "code",
   "execution_count": null,
   "id": "liberal-opportunity",
   "metadata": {},
   "outputs": [],
   "source": []
  },
  {
   "cell_type": "code",
   "execution_count": null,
   "id": "starting-median",
   "metadata": {},
   "outputs": [],
   "source": []
  },
  {
   "cell_type": "code",
   "execution_count": 73,
   "id": "romance-bacon",
   "metadata": {},
   "outputs": [
    {
     "data": {
      "text/plain": [
       "' agatha christie'"
      ]
     },
     "execution_count": 73,
     "metadata": {},
     "output_type": "execute_result"
    }
   ],
   "source": [
    "decode_sequence(x_train[i].reshape(1,max_text_len))"
   ]
  },
  {
   "cell_type": "code",
   "execution_count": null,
   "id": "bridal-block",
   "metadata": {},
   "outputs": [],
   "source": []
  },
  {
   "cell_type": "code",
   "execution_count": null,
   "id": "provincial-maldives",
   "metadata": {},
   "outputs": [],
   "source": [
    "import seaborn as sns\n",
    "import matplotlib.pyplot as plt\n",
    "from sklearn.metrics import confusion_matrix\n",
    "from sklearn.metrics import accuracy_score, precision_score, recall_score, f1_score    \n",
    "    \n",
    "    \n",
    "#preds = np.argmax(seq2summary(y_train[i])), axis=1)\n",
    "\n",
    "    \n",
    "conf = confusion_matrix(decode_sequence(x_train[i].reshape(1,max_text_len)), seq2summary(y_train[i]))\n",
    "plt.figure(figsize=(8,6))\n",
    "sns.heatmap(conf, vmax=30, annot=True, fmt='d')\n"
   ]
  },
  {
   "cell_type": "code",
   "execution_count": null,
   "id": "lonely-african",
   "metadata": {},
   "outputs": [],
   "source": [
    " #   print(\"Original Author:\",seq2summary(y_train[i]))\n",
    "    #print(\"Predicted summary:\",decode_sequence(x_train[i].reshape(1,max_text_len)))\n",
    "# print(\"Predicted Author:\",decode_sequence(x_train[i].reshape(1,max_text_len)))\n",
    "\n",
    "preds = (seq2summary(y_train[i]))  \n",
    "print(\"Accuracy: \", accuracy_score(x_train[i].reshape(1,max_text_len),x_train[i].reshape(1,max_text_len)))\n"
   ]
  },
  {
   "cell_type": "code",
   "execution_count": null,
   "id": "lucky-bikini",
   "metadata": {},
   "outputs": [],
   "source": [
    "from sklearn.metrics import confusion_matrix\n",
    "\n",
    "conf = confusion_matrix(np.argmax(y_test,axis=1), preds)"
   ]
  },
  {
   "cell_type": "code",
   "execution_count": null,
   "id": "closed-cancellation",
   "metadata": {},
   "outputs": [],
   "source": [
    "#Confution Matrix and Classification Report\n",
    "Y_pred = model.predict_generator(validation_generator, num_of_test_samples // batch_size+1)\n",
    "y_pred = np.argmax(Y_pred, axis=1)\n",
    "print('Confusion Matrix')\n",
    "print(confusion_matrix(validation_generator.classes, y_pred))\n",
    "print('Classification Report')\n",
    "target_names = ['Cats', 'Dogs', 'Horse']\n",
    "print(classification_report(validation_generator.classes, y_pred, target_names=target_names))"
   ]
  },
  {
   "cell_type": "code",
   "execution_count": null,
   "id": "prime-marketing",
   "metadata": {},
   "outputs": [],
   "source": [
    "correlation_matrix = data.corr().round(2)\n",
    "# annot = True to print the values inside the square\n",
    "sns.heatmap(data=correlation_matrix, annot=True)"
   ]
  },
  {
   "cell_type": "code",
   "execution_count": null,
   "id": "amateur-duration",
   "metadata": {},
   "outputs": [],
   "source": []
  },
  {
   "cell_type": "code",
   "execution_count": null,
   "id": "anonymous-designation",
   "metadata": {},
   "outputs": [],
   "source": []
  },
  {
   "cell_type": "code",
   "execution_count": 49,
   "id": "split-beaver",
   "metadata": {},
   "outputs": [],
   "source": [
    "from tensorflow.keras.callbacks import TensorBoard\n",
    "tensorboard_callback = TensorBoard(log_dir=\"./logs\", write_graph=True, histogram_freq=1)"
   ]
  },
  {
   "cell_type": "code",
   "execution_count": 57,
   "id": "lucky-mailing",
   "metadata": {},
   "outputs": [
    {
     "data": {
      "image/png": "[encoded data removed]",
      "text/plain": [
       "<Figure size 432x288 with 1 Axes>"
      ]
     },
     "metadata": {
      "needs_background": "light"
     },
     "output_type": "display_data"
    }
   ],
   "source": []
  },
  {
   "cell_type": "code",
   "execution_count": 58,
   "id": "necessary-controversy",
   "metadata": {},
   "outputs": [
    {
     "data": {
      "text/plain": [
       "[0.6260352730751038, 0.317554771900177]"
      ]
     },
     "execution_count": 58,
     "metadata": {},
     "output_type": "execute_result"
    }
   ],
   "source": [
    "history.history['val_loss']"
   ]
  },
  {
   "cell_type": "code",
   "execution_count": null,
   "id": "secret-independence",
   "metadata": {},
   "outputs": [],
   "source": []
  }
 ],
 "metadata": {
  "kernelspec": {
   "display_name": "Python [conda env:root] *",
   "language": "python",
   "name": "conda-root-py"
  },
  "language_info": {
   "codemirror_mode": {
    "name": "ipython",
    "version": 3
   },
   "file_extension": ".py",
   "mimetype": "text/x-python",
   "name": "python",
   "nbconvert_exporter": "python",
   "pygments_lexer": "ipython3",
   "version": "3.8.8"
  }
 },
 "nbformat": 4,
 "nbformat_minor": 5
}
